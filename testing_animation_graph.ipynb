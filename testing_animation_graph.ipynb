{
 "cells": [
  {
   "cell_type": "code",
   "execution_count": 15,
   "metadata": {},
   "outputs": [
    {
     "data": {
      "text/html": [
       "<script type=\"text/javascript\">window.PlotlyConfig = {MathJaxConfig: 'local'};</script><script type=\"text/javascript\">if (window.MathJax) {MathJax.Hub.Config({SVG: {font: \"STIX-Web\"}});}</script><script>requirejs.config({paths: { 'plotly': ['https://cdn.plot.ly/plotly-latest.min']},});if(!window._Plotly) {require(['plotly'],function(plotly) {window._Plotly=plotly;});}</script>"
      ],
      "text/vnd.plotly.v1+html": [
       "<script type=\"text/javascript\">window.PlotlyConfig = {MathJaxConfig: 'local'};</script><script type=\"text/javascript\">if (window.MathJax) {MathJax.Hub.Config({SVG: {font: \"STIX-Web\"}});}</script><script>requirejs.config({paths: { 'plotly': ['https://cdn.plot.ly/plotly-latest.min']},});if(!window._Plotly) {require(['plotly'],function(plotly) {window._Plotly=plotly;});}</script>"
      ]
     },
     "metadata": {},
     "output_type": "display_data"
    }
   ],
   "source": [
    "import pandas as pd\n",
    "import numpy as np\n",
    "\n",
    "import plotly.plotly as py\n",
    "import plotly.graph_objs as go\n",
    "import plotly.offline as offline\n",
    "offline.init_notebook_mode(connected=True)"
   ]
  },
  {
   "cell_type": "code",
   "execution_count": 5,
   "metadata": {},
   "outputs": [],
   "source": [
    "df = pd.read_csv('db_backup/top_100_hip_hop_.csv')"
   ]
  },
  {
   "cell_type": "code",
   "execution_count": 6,
   "metadata": {},
   "outputs": [],
   "source": [
    "def grouped_artists():\n",
    "\n",
    "    '''Returns a dictionary of the top artists grouped by year. Used to graph.'''\n",
    "\n",
    "    # Return top 10 artists and how many times they were mentioned. \n",
    "    top_10 = pd.DataFrame(df['artist'].value_counts()[:10])\n",
    "\n",
    "    # Save the top 10 artists to a list.\n",
    "    top_artists = list(top_10.index)\n",
    "\n",
    "    # Get top 10 artists' songs by checking against list of top_artists.\n",
    "    all_by_top = df.loc[df['artist'].isin(top_artists)]\n",
    "\n",
    "    # Group by artist,year and round their counts.\n",
    "    grouped = pd.DataFrame(all_by_top.groupby(['artist','year'])['rank'].count())\n",
    "    grouped['rank'] = round(grouped['rank'],2)\n",
    "\n",
    "    # Unstack grouped dataframe and convert to dictionary while filling in NaNs with 0.\n",
    "    new_df = grouped.unstack()\n",
    "    dic = new_df.fillna(0).to_dict()\n",
    "\n",
    "    return dic,top_artists"
   ]
  },
  {
   "cell_type": "code",
   "execution_count": 74,
   "metadata": {},
   "outputs": [],
   "source": [
    "def make_buttons(top_artists,frames):\n",
    "\n",
    "    '''Returns button options for dropdown menus.'''\n",
    "\n",
    "    buttons = []\n",
    "\n",
    "    for artist,frame in zip(top_artists,frames):\n",
    "        dic = {\n",
    "            'label':artist,\n",
    "            'method':'animate',\n",
    "            'args': [\n",
    "                frame,\n",
    "                {'frame': {'duration': 300, 'redraw': False},\n",
    "                'transition': {'duration': 300}}\n",
    "            ]\n",
    "        }\n",
    "        \n",
    "        buttons.append(dic)\n",
    "\n",
    "    return buttons"
   ]
  },
  {
   "cell_type": "code",
   "execution_count": 7,
   "metadata": {},
   "outputs": [],
   "source": [
    "def make_hover_over_text(artist,year):\n",
    "\n",
    "    ''' Returns hover-over text for plotly time series.'''\n",
    "\n",
    "    x = list(df[(df['artist']==artist)&(df['year']==year)]['song'])\n",
    "    y = list(df[(df['artist']==artist)&(df['year']==year)]['rank'])\n",
    "    \n",
    "    if x:\n",
    "        string = 'Songs: ' \n",
    "        for song,rank in zip(x,y):\n",
    "            string+= f'''<br>{song} #{rank}'''\n",
    "    else:\n",
    "        return ''\n",
    "\n",
    "    return string\n",
    "\n",
    "def make_conditions(col_list, extra_option=False):\n",
    "\n",
    "    ''' Returns an array with lists of conditions for dropdown menus.'''\n",
    "    \n",
    "    # Make array full of False values with dimensions of input list.\n",
    "    array = np.full(shape=(len(col_list),len(col_list)), fill_value=False, dtype=bool)\n",
    "    \n",
    "    for i in range(len(array)):\n",
    "        array[i][i] = True\n",
    "\n",
    "    ############ This option is to add an extra \"true\" to the array to make sure there's an extra, invisible, trace always present to maintain y-axis length on line graph #########\n",
    "    if extra_option:\n",
    "        extra_option = np.full(shape=(len(col_list),1),fill_value=True,dtype=bool)       \n",
    "        array = np.append(array,extra_option,axis=1)\n",
    "    \n",
    "    return array"
   ]
  },
  {
   "cell_type": "code",
   "execution_count": 98,
   "metadata": {},
   "outputs": [],
   "source": [
    "def top_10_rappers_line():\n",
    "\n",
    "    # Empty list to hold traces.\n",
    "    data = []\n",
    "    \n",
    "    # Empty list to hold frames.\n",
    "    frames = []\n",
    "    \n",
    "    # Invoke grouped_artists() function to get data, and the list of the top artists.\n",
    "    dic,top_artists = grouped_artists()\n",
    "\n",
    "    # Make conditions for drop down menu. Add extra option to maintain y-axis scaling.\n",
    "    conditions = make_conditions(top_artists,extra_option=True)\n",
    "    max_y_value = 0\n",
    "\n",
    "\n",
    "\n",
    "    # 2010-2018\n",
    "    years = [k[1] for k in dic.keys()]\n",
    "\n",
    "    # Loop through top_artists to make traces for plot.\n",
    "    for artist in top_artists:\n",
    "\n",
    "        # Number of songs on billboard hot 100.\n",
    "        num_hits = [v[artist] for v in dic.values()]\n",
    "\n",
    "        # Get the max y value out of all traces. Used for y-axis scaling.\n",
    "        if max_y_value < max(num_hits):\n",
    "            max_y_value = max(num_hits)\n",
    "\n",
    "        # Only display the first trace.\n",
    "        if artist == top_artists[0]:\n",
    "            trace = go.Scattergl(\n",
    "                x=years,\n",
    "                y=num_hits,\n",
    "                mode='lines',\n",
    "                name='Artist',\n",
    "                text = [make_hover_over_text(artist,year) for year in years],\n",
    "                visible=True\n",
    "            )\n",
    "            data.append(trace)\n",
    "#         else:\n",
    "#             visible = 'legendonly'\n",
    "\n",
    "#         trace = go.Scattergl(\n",
    "#             x=years,\n",
    "#             y=num_hits,\n",
    "#             mode='lines',\n",
    "#             name=artist,\n",
    "#             text = [make_hover_over_text(artist,year) for year in years],\n",
    "#             visible=visible\n",
    "#             )\n",
    "#         data.append(trace)\n",
    "        \n",
    "        frame = dict(\n",
    "            name=artist,\n",
    "            data = [dict(\n",
    "                x=years,\n",
    "                y=num_hits,\n",
    "                text = [make_hover_over_text(artist,year) for year in years]\n",
    "            )]\n",
    "        )\n",
    "        \n",
    "        frames.append(frame)\n",
    "    \n",
    "    # Make button options for dropdown menu.\n",
    "    buttons = make_buttons(top_artists,frames)\n",
    "    \n",
    "    \n",
    "    # Add extra trace to make sure that scale on graph remains the same.\n",
    "    # Make the trace 'visible', but have no hover info or marker size.\n",
    "    trace = go.Scattergl(\n",
    "    x=[2010.1],\n",
    "    y=[max_y_value],\n",
    "    mode='lines',\n",
    "    visible=True,\n",
    "    hoverinfo='none'\n",
    "    )\n",
    "\n",
    "    data.append(trace)   \n",
    "\n",
    "\n",
    "    updatemenus = list([\n",
    "        dict(\n",
    "            buttons=buttons,\n",
    "            x = 1.2,\n",
    "            xanchor = 'right',\n",
    "            y = 1.2,\n",
    "            yanchor = 'top',\n",
    "            pad = {'l': 0, 't': 0.0},\n",
    "            bgcolor = '#AAAAAA',\n",
    "            showactive = False,\n",
    "            bordercolor = '#FFFFFF',\n",
    "            font = dict(size=11, color='#000000')\n",
    "        )])    \n",
    "\n",
    "    layout = go.Layout(\n",
    "        updatemenus=updatemenus,\n",
    "        showlegend=False,\n",
    "        title=\"Top 10 Artists' Hits this Decade\",\n",
    "        yaxis=dict(\n",
    "            title=\"Number of hits on Hot 100\",\n",
    "            titlefont=dict(\n",
    "                size=12\n",
    "            )\n",
    "        ),\n",
    "        paper_bgcolor='rgba(0,0,0,0)',\n",
    "        plot_bgcolor='rgba(0,0,0,0)'\n",
    "    )\n",
    "\n",
    "\n",
    "    fig = go.Figure(data=data, layout=layout,frames=[frames[0]])\n",
    "\n",
    "    return offline.iplot(fig)"
   ]
  },
  {
   "cell_type": "code",
   "execution_count": 99,
   "metadata": {},
   "outputs": [
    {
     "data": {
      "application/vnd.plotly.v1+json": {
       "config": {
        "linkText": "Export to plot.ly",
        "plotlyServerURL": "https://plot.ly",
        "showLink": false
       },
       "data": [
        {
         "mode": "lines",
         "name": "Artist",
         "text": [
          "Songs: <br>Find Your Love #15<br>Over #16",
          "Songs: <br>Headlines #33<br>Marvins Room #40",
          "",
          "Songs: <br>Started From The Bottom #7",
          "Songs: <br>0 To 100 / The Catch Up #29<br>The Language #61<br>Worst Behavior #92",
          "Songs: <br>Hotline Bling #8",
          "Songs: <br>Controlla #11<br>Summer Sixteen #39<br>Childs Play #56<br>Still Here #63<br>Hype #70",
          "Songs: <br>Fake Love #18<br>Passionfruit #31<br>Gyalchester #83",
          "Songs: <br>God's Plan #1<br>In My Feelings #3<br>Nice For What #5<br>Nonstop #27<br>I'm Upset #45<br>Mob Ties #94"
         ],
         "type": "scattergl",
         "uid": "5061a4ef-b81a-4b80-9939-849d437afcc5",
         "visible": true,
         "x": [
          2010,
          2011,
          2012,
          2013,
          2014,
          2015,
          2016,
          2017,
          2018
         ],
         "y": [
          2,
          2,
          0,
          1,
          3,
          1,
          5,
          3,
          6
         ]
        },
        {
         "hoverinfo": "none",
         "mode": "lines",
         "type": "scattergl",
         "uid": "c9b8428c-ab0c-437d-a746-dc216593c38b",
         "visible": true,
         "x": [
          2010.1
         ],
         "y": [
          6
         ]
        }
       ],
       "frames": [
        {
         "data": [
          {
           "text": [
            "Songs: <br>Find Your Love #15<br>Over #16",
            "Songs: <br>Headlines #33<br>Marvins Room #40",
            "",
            "Songs: <br>Started From The Bottom #7",
            "Songs: <br>0 To 100 / The Catch Up #29<br>The Language #61<br>Worst Behavior #92",
            "Songs: <br>Hotline Bling #8",
            "Songs: <br>Controlla #11<br>Summer Sixteen #39<br>Childs Play #56<br>Still Here #63<br>Hype #70",
            "Songs: <br>Fake Love #18<br>Passionfruit #31<br>Gyalchester #83",
            "Songs: <br>God's Plan #1<br>In My Feelings #3<br>Nice For What #5<br>Nonstop #27<br>I'm Upset #45<br>Mob Ties #94"
           ],
           "type": "scatter",
           "x": [
            2010,
            2011,
            2012,
            2013,
            2014,
            2015,
            2016,
            2017,
            2018
           ],
           "y": [
            2,
            2,
            0,
            1,
            3,
            1,
            5,
            3,
            6
           ]
          }
         ],
         "name": "Drake"
        }
       ],
       "layout": {
        "paper_bgcolor": "rgba(0,0,0,0)",
        "plot_bgcolor": "rgba(0,0,0,0)",
        "showlegend": false,
        "title": {
         "text": "Top 10 Artists' Hits this Decade"
        },
        "updatemenus": [
         {
          "bgcolor": "#AAAAAA",
          "bordercolor": "#FFFFFF",
          "buttons": [
           {
            "args": [
             {
              "data": [
               {
                "text": [
                 "Songs: <br>Find Your Love #15<br>Over #16",
                 "Songs: <br>Headlines #33<br>Marvins Room #40",
                 "",
                 "Songs: <br>Started From The Bottom #7",
                 "Songs: <br>0 To 100 / The Catch Up #29<br>The Language #61<br>Worst Behavior #92",
                 "Songs: <br>Hotline Bling #8",
                 "Songs: <br>Controlla #11<br>Summer Sixteen #39<br>Childs Play #56<br>Still Here #63<br>Hype #70",
                 "Songs: <br>Fake Love #18<br>Passionfruit #31<br>Gyalchester #83",
                 "Songs: <br>God's Plan #1<br>In My Feelings #3<br>Nice For What #5<br>Nonstop #27<br>I'm Upset #45<br>Mob Ties #94"
                ],
                "x": [
                 2010,
                 2011,
                 2012,
                 2013,
                 2014,
                 2015,
                 2016,
                 2017,
                 2018
                ],
                "y": [
                 2,
                 2,
                 0,
                 1,
                 3,
                 1,
                 5,
                 3,
                 6
                ]
               }
              ],
              "name": "Drake"
             },
             {
              "frame": {
               "duration": 300,
               "redraw": false
              },
              "transition": {
               "duration": 300
              }
             }
            ],
            "label": "Drake",
            "method": "animate"
           },
           {
            "args": [
             {
              "data": [
               {
                "text": [
                 "",
                 "",
                 "",
                 "Songs: <br>Wicked Games #47",
                 "Songs: <br>Often #97",
                 "Songs: <br>The Hills #4<br>Can't Feel My Face #5<br>Earned It (Fifty Shades Of Grey) #6",
                 "Songs: <br>In The Night #20<br>Acquainted #79",
                 "Songs: <br>Party Monster #56<br>Reminder #71",
                 "Songs: <br>Call Out My Name #43"
                ],
                "x": [
                 2010,
                 2011,
                 2012,
                 2013,
                 2014,
                 2015,
                 2016,
                 2017,
                 2018
                ],
                "y": [
                 0,
                 0,
                 0,
                 1,
                 1,
                 3,
                 2,
                 2,
                 1
                ]
               }
              ],
              "name": "The Weeknd"
             },
             {
              "frame": {
               "duration": 300,
               "redraw": false
              },
              "transition": {
               "duration": 300
              }
             }
            ],
            "label": "The Weeknd",
            "method": "animate"
           },
           {
            "args": [
             {
              "data": [
               {
                "text": [
                 "",
                 "Songs: <br>Best Thing I Never Had #25",
                 "Songs: <br>Love On Top #1<br>Dance For You #33<br>Countdown #61",
                 "",
                 "Songs: <br>Partition #21<br>XO #60",
                 "Songs: <br>7/11 #19",
                 "Songs: <br>Sorry #23<br>Hold Up #47<br>Formation #57",
                 "",
                 ""
                ],
                "x": [
                 2010,
                 2011,
                 2012,
                 2013,
                 2014,
                 2015,
                 2016,
                 2017,
                 2018
                ],
                "y": [
                 0,
                 1,
                 3,
                 0,
                 2,
                 1,
                 3,
                 0,
                 0
                ]
               }
              ],
              "name": "Beyonce"
             },
             {
              "frame": {
               "duration": 300,
               "redraw": false
              },
              "transition": {
               "duration": 300
              }
             }
            ],
            "label": "Beyonce",
            "method": "animate"
           },
           {
            "args": [
             {
              "data": [
               {
                "text": [
                 "",
                 "Songs: <br>She Ain't You #10<br>No BS #17",
                 "Songs: <br>Sweet Love #79",
                 "Songs: <br>Fine China #33<br>Don't Judge Me #69",
                 "",
                 "",
                 "Songs: <br>Back To Sleep #32<br>Grass Ain't Greener #92",
                 "Songs: <br>Privacy #66<br>Questions #98",
                 ""
                ],
                "x": [
                 2010,
                 2011,
                 2012,
                 2013,
                 2014,
                 2015,
                 2016,
                 2017,
                 2018
                ],
                "y": [
                 0,
                 2,
                 1,
                 2,
                 0,
                 0,
                 2,
                 2,
                 0
                ]
               }
              ],
              "name": "Chris Brown"
             },
             {
              "frame": {
               "duration": 300,
               "redraw": false
              },
              "transition": {
               "duration": 300
              }
             }
            ],
            "label": "Chris Brown",
            "method": "animate"
           },
           {
            "args": [
             {
              "data": [
               {
                "text": [
                 "Songs: <br>Rude Boy #25",
                 "Songs: <br>Man Down #47",
                 "",
                 "Songs: <br>Diamonds #6<br>Pour It Up #16",
                 "",
                 "",
                 "Songs: <br>Needed Me #4<br>Kiss It Better #71<br>Sex With Me #83",
                 "Songs: <br>Love On The Brain #21",
                 ""
                ],
                "x": [
                 2010,
                 2011,
                 2012,
                 2013,
                 2014,
                 2015,
                 2016,
                 2017,
                 2018
                ],
                "y": [
                 1,
                 1,
                 0,
                 2,
                 0,
                 0,
                 3,
                 1,
                 0
                ]
               }
              ],
              "name": "Rihanna"
             },
             {
              "frame": {
               "duration": 300,
               "redraw": false
              },
              "transition": {
               "duration": 300
              }
             }
            ],
            "label": "Rihanna",
            "method": "animate"
           },
           {
            "args": [
             {
              "data": [
               {
                "text": [
                 "Songs: <br>Neighbors Know My Name #6<br>Can't Be Friends #44",
                 "Songs: <br>Love Faces #14",
                 "Songs: <br>Heart Attack #7<br>Sex Ain't Better Than Love #39<br>Dive In #43",
                 "",
                 "Songs: <br>Na Na #16<br>Foreign #68",
                 "",
                 "",
                 "",
                 ""
                ],
                "x": [
                 2010,
                 2011,
                 2012,
                 2013,
                 2014,
                 2015,
                 2016,
                 2017,
                 2018
                ],
                "y": [
                 2,
                 1,
                 3,
                 0,
                 2,
                 0,
                 0,
                 0,
                 0
                ]
               }
              ],
              "name": "Trey Songz"
             },
             {
              "frame": {
               "duration": 300,
               "redraw": false
              },
              "transition": {
               "duration": 300
              }
             }
            ],
            "label": "Trey Songz",
            "method": "animate"
           },
           {
            "args": [
             {
              "data": [
               {
                "text": [
                 "",
                 "",
                 "Songs: <br>Turn On The Lights #35<br>Same Damn Time #62",
                 "Songs: <br>Neva End #51<br>Honest #82",
                 "",
                 "",
                 "Songs: <br>Wicked #34<br>Stick Talk #97",
                 "Songs: <br>Mask Off #7",
                 ""
                ],
                "x": [
                 2010,
                 2011,
                 2012,
                 2013,
                 2014,
                 2015,
                 2016,
                 2017,
                 2018
                ],
                "y": [
                 0,
                 0,
                 2,
                 2,
                 0,
                 0,
                 2,
                 1,
                 0
                ]
               }
              ],
              "name": "Future"
             },
             {
              "frame": {
               "duration": 300,
               "redraw": false
              },
              "transition": {
               "duration": 300
              }
             }
            ],
            "label": "Future",
            "method": "animate"
           },
           {
            "args": [
             {
              "data": [
               {
                "text": [
                 "Songs: <br>POWER #91",
                 "Songs: <br>All Of The Lights #12",
                 "",
                 "",
                 "Songs: <br>Bound 2 #71",
                 "",
                 "Songs: <br>Father Stretch My Hands Pt. 1 #38<br>Famous #60<br>Fade #93",
                 "",
                 "Songs: <br>All Mine #96"
                ],
                "x": [
                 2010,
                 2011,
                 2012,
                 2013,
                 2014,
                 2015,
                 2016,
                 2017,
                 2018
                ],
                "y": [
                 1,
                 1,
                 0,
                 0,
                 1,
                 0,
                 3,
                 0,
                 1
                ]
               }
              ],
              "name": "Kanye West"
             },
             {
              "frame": {
               "duration": 300,
               "redraw": false
              },
              "transition": {
               "duration": 300
              }
             }
            ],
            "label": "Kanye West",
            "method": "animate"
           },
           {
            "args": [
             {
              "data": [
               {
                "text": [
                 "Songs: <br>Your Love #26",
                 "Songs: <br>Did It On'em #28<br>Super Bass #42<br>Right Thru Me #51",
                 "",
                 "",
                 "Songs: <br>Anaconda #9<br>Pills N Potions #30",
                 "",
                 "",
                 "",
                 "Songs: <br>Chun-Li #49"
                ],
                "x": [
                 2010,
                 2011,
                 2012,
                 2013,
                 2014,
                 2015,
                 2016,
                 2017,
                 2018
                ],
                "y": [
                 1,
                 3,
                 0,
                 0,
                 2,
                 0,
                 0,
                 0,
                 1
                ]
               }
              ],
              "name": "Nicki Minaj"
             },
             {
              "frame": {
               "duration": 300,
               "redraw": false
              },
              "transition": {
               "duration": 300
              }
             }
            ],
            "label": "Nicki Minaj",
            "method": "animate"
           },
           {
            "args": [
             {
              "data": [
               {
                "text": [
                 "",
                 "",
                 "Songs: <br>Swimming Pools (Drank) #88",
                 "Songs: <br>Bitch  Don't Kill My Vibe #20",
                 "Songs: <br>i #65",
                 "",
                 "",
                 "Songs: <br>Humble. #2<br>DNA. #29<br>Element. #76",
                 ""
                ],
                "x": [
                 2010,
                 2011,
                 2012,
                 2013,
                 2014,
                 2015,
                 2016,
                 2017,
                 2018
                ],
                "y": [
                 0,
                 0,
                 1,
                 1,
                 1,
                 0,
                 0,
                 3,
                 0
                ]
               }
              ],
              "name": "Kendrick Lamar"
             },
             {
              "frame": {
               "duration": 300,
               "redraw": false
              },
              "transition": {
               "duration": 300
              }
             }
            ],
            "label": "Kendrick Lamar",
            "method": "animate"
           }
          ],
          "font": {
           "color": "#000000",
           "size": 11
          },
          "pad": {
           "l": 0,
           "t": 0
          },
          "showactive": false,
          "x": 1.2,
          "xanchor": "right",
          "y": 1.2,
          "yanchor": "top"
         }
        ],
        "yaxis": {
         "title": {
          "font": {
           "size": 12
          },
          "text": "Number of hits on Hot 100"
         }
        }
       }
      },
      "text/html": [
       "<div id=\"13b54252-d2b9-45c4-9919-54343bb7309c\" style=\"height: 525px; width: 100%;\" class=\"plotly-graph-div\"></div><script type=\"text/javascript\">require([\"plotly\"], function(Plotly) { window.PLOTLYENV=window.PLOTLYENV || {};window.PLOTLYENV.BASE_URL=\"https://plot.ly\";\n",
       "        Plotly.plot(\n",
       "            '13b54252-d2b9-45c4-9919-54343bb7309c',\n",
       "            [{\"mode\": \"lines\", \"name\": \"Artist\", \"text\": [\"Songs: <br>Find Your Love #15<br>Over #16\", \"Songs: <br>Headlines #33<br>Marvins Room #40\", \"\", \"Songs: <br>Started From The Bottom #7\", \"Songs: <br>0 To 100 / The Catch Up #29<br>The Language #61<br>Worst Behavior #92\", \"Songs: <br>Hotline Bling #8\", \"Songs: <br>Controlla #11<br>Summer Sixteen #39<br>Childs Play #56<br>Still Here #63<br>Hype #70\", \"Songs: <br>Fake Love #18<br>Passionfruit #31<br>Gyalchester #83\", \"Songs: <br>God's Plan #1<br>In My Feelings #3<br>Nice For What #5<br>Nonstop #27<br>I'm Upset #45<br>Mob Ties #94\"], \"visible\": true, \"x\": [2010, 2011, 2012, 2013, 2014, 2015, 2016, 2017, 2018], \"y\": [2.0, 2.0, 0.0, 1.0, 3.0, 1.0, 5.0, 3.0, 6.0], \"type\": \"scattergl\", \"uid\": \"5061a4ef-b81a-4b80-9939-849d437afcc5\"}, {\"hoverinfo\": \"none\", \"mode\": \"lines\", \"visible\": true, \"x\": [2010.1], \"y\": [6.0], \"type\": \"scattergl\", \"uid\": \"c9b8428c-ab0c-437d-a746-dc216593c38b\"}],\n",
       "            {\"paper_bgcolor\": \"rgba(0,0,0,0)\", \"plot_bgcolor\": \"rgba(0,0,0,0)\", \"showlegend\": false, \"title\": {\"text\": \"Top 10 Artists' Hits this Decade\"}, \"updatemenus\": [{\"bgcolor\": \"#AAAAAA\", \"bordercolor\": \"#FFFFFF\", \"buttons\": [{\"args\": [{\"name\": \"Drake\", \"data\": [{\"x\": [2010, 2011, 2012, 2013, 2014, 2015, 2016, 2017, 2018], \"y\": [2.0, 2.0, 0.0, 1.0, 3.0, 1.0, 5.0, 3.0, 6.0], \"text\": [\"Songs: <br>Find Your Love #15<br>Over #16\", \"Songs: <br>Headlines #33<br>Marvins Room #40\", \"\", \"Songs: <br>Started From The Bottom #7\", \"Songs: <br>0 To 100 / The Catch Up #29<br>The Language #61<br>Worst Behavior #92\", \"Songs: <br>Hotline Bling #8\", \"Songs: <br>Controlla #11<br>Summer Sixteen #39<br>Childs Play #56<br>Still Here #63<br>Hype #70\", \"Songs: <br>Fake Love #18<br>Passionfruit #31<br>Gyalchester #83\", \"Songs: <br>God's Plan #1<br>In My Feelings #3<br>Nice For What #5<br>Nonstop #27<br>I'm Upset #45<br>Mob Ties #94\"]}]}, {\"frame\": {\"duration\": 300, \"redraw\": false}, \"transition\": {\"duration\": 300}}], \"label\": \"Drake\", \"method\": \"animate\"}, {\"args\": [{\"name\": \"The Weeknd\", \"data\": [{\"x\": [2010, 2011, 2012, 2013, 2014, 2015, 2016, 2017, 2018], \"y\": [0.0, 0.0, 0.0, 1.0, 1.0, 3.0, 2.0, 2.0, 1.0], \"text\": [\"\", \"\", \"\", \"Songs: <br>Wicked Games #47\", \"Songs: <br>Often #97\", \"Songs: <br>The Hills #4<br>Can't Feel My Face #5<br>Earned It (Fifty Shades Of Grey) #6\", \"Songs: <br>In The Night #20<br>Acquainted #79\", \"Songs: <br>Party Monster #56<br>Reminder #71\", \"Songs: <br>Call Out My Name #43\"]}]}, {\"frame\": {\"duration\": 300, \"redraw\": false}, \"transition\": {\"duration\": 300}}], \"label\": \"The Weeknd\", \"method\": \"animate\"}, {\"args\": [{\"name\": \"Beyonce\", \"data\": [{\"x\": [2010, 2011, 2012, 2013, 2014, 2015, 2016, 2017, 2018], \"y\": [0.0, 1.0, 3.0, 0.0, 2.0, 1.0, 3.0, 0.0, 0.0], \"text\": [\"\", \"Songs: <br>Best Thing I Never Had #25\", \"Songs: <br>Love On Top #1<br>Dance For You #33<br>Countdown #61\", \"\", \"Songs: <br>Partition #21<br>XO #60\", \"Songs: <br>7/11 #19\", \"Songs: <br>Sorry #23<br>Hold Up #47<br>Formation #57\", \"\", \"\"]}]}, {\"frame\": {\"duration\": 300, \"redraw\": false}, \"transition\": {\"duration\": 300}}], \"label\": \"Beyonce\", \"method\": \"animate\"}, {\"args\": [{\"name\": \"Chris Brown\", \"data\": [{\"x\": [2010, 2011, 2012, 2013, 2014, 2015, 2016, 2017, 2018], \"y\": [0.0, 2.0, 1.0, 2.0, 0.0, 0.0, 2.0, 2.0, 0.0], \"text\": [\"\", \"Songs: <br>She Ain't You #10<br>No BS #17\", \"Songs: <br>Sweet Love #79\", \"Songs: <br>Fine China #33<br>Don't Judge Me #69\", \"\", \"\", \"Songs: <br>Back To Sleep #32<br>Grass Ain't Greener #92\", \"Songs: <br>Privacy #66<br>Questions #98\", \"\"]}]}, {\"frame\": {\"duration\": 300, \"redraw\": false}, \"transition\": {\"duration\": 300}}], \"label\": \"Chris Brown\", \"method\": \"animate\"}, {\"args\": [{\"name\": \"Rihanna\", \"data\": [{\"x\": [2010, 2011, 2012, 2013, 2014, 2015, 2016, 2017, 2018], \"y\": [1.0, 1.0, 0.0, 2.0, 0.0, 0.0, 3.0, 1.0, 0.0], \"text\": [\"Songs: <br>Rude Boy #25\", \"Songs: <br>Man Down #47\", \"\", \"Songs: <br>Diamonds #6<br>Pour It Up #16\", \"\", \"\", \"Songs: <br>Needed Me #4<br>Kiss It Better #71<br>Sex With Me #83\", \"Songs: <br>Love On The Brain #21\", \"\"]}]}, {\"frame\": {\"duration\": 300, \"redraw\": false}, \"transition\": {\"duration\": 300}}], \"label\": \"Rihanna\", \"method\": \"animate\"}, {\"args\": [{\"name\": \"Trey Songz\", \"data\": [{\"x\": [2010, 2011, 2012, 2013, 2014, 2015, 2016, 2017, 2018], \"y\": [2.0, 1.0, 3.0, 0.0, 2.0, 0.0, 0.0, 0.0, 0.0], \"text\": [\"Songs: <br>Neighbors Know My Name #6<br>Can't Be Friends #44\", \"Songs: <br>Love Faces #14\", \"Songs: <br>Heart Attack #7<br>Sex Ain't Better Than Love #39<br>Dive In #43\", \"\", \"Songs: <br>Na Na #16<br>Foreign #68\", \"\", \"\", \"\", \"\"]}]}, {\"frame\": {\"duration\": 300, \"redraw\": false}, \"transition\": {\"duration\": 300}}], \"label\": \"Trey Songz\", \"method\": \"animate\"}, {\"args\": [{\"name\": \"Future\", \"data\": [{\"x\": [2010, 2011, 2012, 2013, 2014, 2015, 2016, 2017, 2018], \"y\": [0.0, 0.0, 2.0, 2.0, 0.0, 0.0, 2.0, 1.0, 0.0], \"text\": [\"\", \"\", \"Songs: <br>Turn On The Lights #35<br>Same Damn Time #62\", \"Songs: <br>Neva End #51<br>Honest #82\", \"\", \"\", \"Songs: <br>Wicked #34<br>Stick Talk #97\", \"Songs: <br>Mask Off #7\", \"\"]}]}, {\"frame\": {\"duration\": 300, \"redraw\": false}, \"transition\": {\"duration\": 300}}], \"label\": \"Future\", \"method\": \"animate\"}, {\"args\": [{\"name\": \"Kanye West\", \"data\": [{\"x\": [2010, 2011, 2012, 2013, 2014, 2015, 2016, 2017, 2018], \"y\": [1.0, 1.0, 0.0, 0.0, 1.0, 0.0, 3.0, 0.0, 1.0], \"text\": [\"Songs: <br>POWER #91\", \"Songs: <br>All Of The Lights #12\", \"\", \"\", \"Songs: <br>Bound 2 #71\", \"\", \"Songs: <br>Father Stretch My Hands Pt. 1 #38<br>Famous #60<br>Fade #93\", \"\", \"Songs: <br>All Mine #96\"]}]}, {\"frame\": {\"duration\": 300, \"redraw\": false}, \"transition\": {\"duration\": 300}}], \"label\": \"Kanye West\", \"method\": \"animate\"}, {\"args\": [{\"name\": \"Nicki Minaj\", \"data\": [{\"x\": [2010, 2011, 2012, 2013, 2014, 2015, 2016, 2017, 2018], \"y\": [1.0, 3.0, 0.0, 0.0, 2.0, 0.0, 0.0, 0.0, 1.0], \"text\": [\"Songs: <br>Your Love #26\", \"Songs: <br>Did It On'em #28<br>Super Bass #42<br>Right Thru Me #51\", \"\", \"\", \"Songs: <br>Anaconda #9<br>Pills N Potions #30\", \"\", \"\", \"\", \"Songs: <br>Chun-Li #49\"]}]}, {\"frame\": {\"duration\": 300, \"redraw\": false}, \"transition\": {\"duration\": 300}}], \"label\": \"Nicki Minaj\", \"method\": \"animate\"}, {\"args\": [{\"name\": \"Kendrick Lamar\", \"data\": [{\"x\": [2010, 2011, 2012, 2013, 2014, 2015, 2016, 2017, 2018], \"y\": [0.0, 0.0, 1.0, 1.0, 1.0, 0.0, 0.0, 3.0, 0.0], \"text\": [\"\", \"\", \"Songs: <br>Swimming Pools (Drank) #88\", \"Songs: <br>Bitch  Don't Kill My Vibe #20\", \"Songs: <br>i #65\", \"\", \"\", \"Songs: <br>Humble. #2<br>DNA. #29<br>Element. #76\", \"\"]}]}, {\"frame\": {\"duration\": 300, \"redraw\": false}, \"transition\": {\"duration\": 300}}], \"label\": \"Kendrick Lamar\", \"method\": \"animate\"}], \"font\": {\"color\": \"#000000\", \"size\": 11}, \"pad\": {\"l\": 0, \"t\": 0.0}, \"showactive\": false, \"x\": 1.2, \"xanchor\": \"right\", \"y\": 1.2, \"yanchor\": \"top\"}], \"yaxis\": {\"title\": {\"font\": {\"size\": 12}, \"text\": \"Number of hits on Hot 100\"}}},\n",
       "            {\"showLink\": false, \"linkText\": \"Export to plot.ly\", \"plotlyServerURL\": \"https://plot.ly\"}\n",
       "        ).then(function () {return Plotly.addFrames('13b54252-d2b9-45c4-9919-54343bb7309c',[{\"data\": [{\"text\": [\"Songs: <br>Find Your Love #15<br>Over #16\", \"Songs: <br>Headlines #33<br>Marvins Room #40\", \"\", \"Songs: <br>Started From The Bottom #7\", \"Songs: <br>0 To 100 / The Catch Up #29<br>The Language #61<br>Worst Behavior #92\", \"Songs: <br>Hotline Bling #8\", \"Songs: <br>Controlla #11<br>Summer Sixteen #39<br>Childs Play #56<br>Still Here #63<br>Hype #70\", \"Songs: <br>Fake Love #18<br>Passionfruit #31<br>Gyalchester #83\", \"Songs: <br>God's Plan #1<br>In My Feelings #3<br>Nice For What #5<br>Nonstop #27<br>I'm Upset #45<br>Mob Ties #94\"], \"x\": [2010, 2011, 2012, 2013, 2014, 2015, 2016, 2017, 2018], \"y\": [2.0, 2.0, 0.0, 1.0, 3.0, 1.0, 5.0, 3.0, 6.0], \"type\": \"scatter\"}], \"name\": \"Drake\"}]);}).then(function(){Plotly.animate('13b54252-d2b9-45c4-9919-54343bb7309c');})\n",
       "        });</script><script type=\"text/javascript\">window.addEventListener(\"resize\", function(){window._Plotly.Plots.resize(document.getElementById(\"13b54252-d2b9-45c4-9919-54343bb7309c\"));});</script>"
      ],
      "text/vnd.plotly.v1+html": [
       "<div id=\"13b54252-d2b9-45c4-9919-54343bb7309c\" style=\"height: 525px; width: 100%;\" class=\"plotly-graph-div\"></div><script type=\"text/javascript\">require([\"plotly\"], function(Plotly) { window.PLOTLYENV=window.PLOTLYENV || {};window.PLOTLYENV.BASE_URL=\"https://plot.ly\";\n",
       "        Plotly.plot(\n",
       "            '13b54252-d2b9-45c4-9919-54343bb7309c',\n",
       "            [{\"mode\": \"lines\", \"name\": \"Artist\", \"text\": [\"Songs: <br>Find Your Love #15<br>Over #16\", \"Songs: <br>Headlines #33<br>Marvins Room #40\", \"\", \"Songs: <br>Started From The Bottom #7\", \"Songs: <br>0 To 100 / The Catch Up #29<br>The Language #61<br>Worst Behavior #92\", \"Songs: <br>Hotline Bling #8\", \"Songs: <br>Controlla #11<br>Summer Sixteen #39<br>Childs Play #56<br>Still Here #63<br>Hype #70\", \"Songs: <br>Fake Love #18<br>Passionfruit #31<br>Gyalchester #83\", \"Songs: <br>God's Plan #1<br>In My Feelings #3<br>Nice For What #5<br>Nonstop #27<br>I'm Upset #45<br>Mob Ties #94\"], \"visible\": true, \"x\": [2010, 2011, 2012, 2013, 2014, 2015, 2016, 2017, 2018], \"y\": [2.0, 2.0, 0.0, 1.0, 3.0, 1.0, 5.0, 3.0, 6.0], \"type\": \"scattergl\", \"uid\": \"5061a4ef-b81a-4b80-9939-849d437afcc5\"}, {\"hoverinfo\": \"none\", \"mode\": \"lines\", \"visible\": true, \"x\": [2010.1], \"y\": [6.0], \"type\": \"scattergl\", \"uid\": \"c9b8428c-ab0c-437d-a746-dc216593c38b\"}],\n",
       "            {\"paper_bgcolor\": \"rgba(0,0,0,0)\", \"plot_bgcolor\": \"rgba(0,0,0,0)\", \"showlegend\": false, \"title\": {\"text\": \"Top 10 Artists' Hits this Decade\"}, \"updatemenus\": [{\"bgcolor\": \"#AAAAAA\", \"bordercolor\": \"#FFFFFF\", \"buttons\": [{\"args\": [{\"name\": \"Drake\", \"data\": [{\"x\": [2010, 2011, 2012, 2013, 2014, 2015, 2016, 2017, 2018], \"y\": [2.0, 2.0, 0.0, 1.0, 3.0, 1.0, 5.0, 3.0, 6.0], \"text\": [\"Songs: <br>Find Your Love #15<br>Over #16\", \"Songs: <br>Headlines #33<br>Marvins Room #40\", \"\", \"Songs: <br>Started From The Bottom #7\", \"Songs: <br>0 To 100 / The Catch Up #29<br>The Language #61<br>Worst Behavior #92\", \"Songs: <br>Hotline Bling #8\", \"Songs: <br>Controlla #11<br>Summer Sixteen #39<br>Childs Play #56<br>Still Here #63<br>Hype #70\", \"Songs: <br>Fake Love #18<br>Passionfruit #31<br>Gyalchester #83\", \"Songs: <br>God's Plan #1<br>In My Feelings #3<br>Nice For What #5<br>Nonstop #27<br>I'm Upset #45<br>Mob Ties #94\"]}]}, {\"frame\": {\"duration\": 300, \"redraw\": false}, \"transition\": {\"duration\": 300}}], \"label\": \"Drake\", \"method\": \"animate\"}, {\"args\": [{\"name\": \"The Weeknd\", \"data\": [{\"x\": [2010, 2011, 2012, 2013, 2014, 2015, 2016, 2017, 2018], \"y\": [0.0, 0.0, 0.0, 1.0, 1.0, 3.0, 2.0, 2.0, 1.0], \"text\": [\"\", \"\", \"\", \"Songs: <br>Wicked Games #47\", \"Songs: <br>Often #97\", \"Songs: <br>The Hills #4<br>Can't Feel My Face #5<br>Earned It (Fifty Shades Of Grey) #6\", \"Songs: <br>In The Night #20<br>Acquainted #79\", \"Songs: <br>Party Monster #56<br>Reminder #71\", \"Songs: <br>Call Out My Name #43\"]}]}, {\"frame\": {\"duration\": 300, \"redraw\": false}, \"transition\": {\"duration\": 300}}], \"label\": \"The Weeknd\", \"method\": \"animate\"}, {\"args\": [{\"name\": \"Beyonce\", \"data\": [{\"x\": [2010, 2011, 2012, 2013, 2014, 2015, 2016, 2017, 2018], \"y\": [0.0, 1.0, 3.0, 0.0, 2.0, 1.0, 3.0, 0.0, 0.0], \"text\": [\"\", \"Songs: <br>Best Thing I Never Had #25\", \"Songs: <br>Love On Top #1<br>Dance For You #33<br>Countdown #61\", \"\", \"Songs: <br>Partition #21<br>XO #60\", \"Songs: <br>7/11 #19\", \"Songs: <br>Sorry #23<br>Hold Up #47<br>Formation #57\", \"\", \"\"]}]}, {\"frame\": {\"duration\": 300, \"redraw\": false}, \"transition\": {\"duration\": 300}}], \"label\": \"Beyonce\", \"method\": \"animate\"}, {\"args\": [{\"name\": \"Chris Brown\", \"data\": [{\"x\": [2010, 2011, 2012, 2013, 2014, 2015, 2016, 2017, 2018], \"y\": [0.0, 2.0, 1.0, 2.0, 0.0, 0.0, 2.0, 2.0, 0.0], \"text\": [\"\", \"Songs: <br>She Ain't You #10<br>No BS #17\", \"Songs: <br>Sweet Love #79\", \"Songs: <br>Fine China #33<br>Don't Judge Me #69\", \"\", \"\", \"Songs: <br>Back To Sleep #32<br>Grass Ain't Greener #92\", \"Songs: <br>Privacy #66<br>Questions #98\", \"\"]}]}, {\"frame\": {\"duration\": 300, \"redraw\": false}, \"transition\": {\"duration\": 300}}], \"label\": \"Chris Brown\", \"method\": \"animate\"}, {\"args\": [{\"name\": \"Rihanna\", \"data\": [{\"x\": [2010, 2011, 2012, 2013, 2014, 2015, 2016, 2017, 2018], \"y\": [1.0, 1.0, 0.0, 2.0, 0.0, 0.0, 3.0, 1.0, 0.0], \"text\": [\"Songs: <br>Rude Boy #25\", \"Songs: <br>Man Down #47\", \"\", \"Songs: <br>Diamonds #6<br>Pour It Up #16\", \"\", \"\", \"Songs: <br>Needed Me #4<br>Kiss It Better #71<br>Sex With Me #83\", \"Songs: <br>Love On The Brain #21\", \"\"]}]}, {\"frame\": {\"duration\": 300, \"redraw\": false}, \"transition\": {\"duration\": 300}}], \"label\": \"Rihanna\", \"method\": \"animate\"}, {\"args\": [{\"name\": \"Trey Songz\", \"data\": [{\"x\": [2010, 2011, 2012, 2013, 2014, 2015, 2016, 2017, 2018], \"y\": [2.0, 1.0, 3.0, 0.0, 2.0, 0.0, 0.0, 0.0, 0.0], \"text\": [\"Songs: <br>Neighbors Know My Name #6<br>Can't Be Friends #44\", \"Songs: <br>Love Faces #14\", \"Songs: <br>Heart Attack #7<br>Sex Ain't Better Than Love #39<br>Dive In #43\", \"\", \"Songs: <br>Na Na #16<br>Foreign #68\", \"\", \"\", \"\", \"\"]}]}, {\"frame\": {\"duration\": 300, \"redraw\": false}, \"transition\": {\"duration\": 300}}], \"label\": \"Trey Songz\", \"method\": \"animate\"}, {\"args\": [{\"name\": \"Future\", \"data\": [{\"x\": [2010, 2011, 2012, 2013, 2014, 2015, 2016, 2017, 2018], \"y\": [0.0, 0.0, 2.0, 2.0, 0.0, 0.0, 2.0, 1.0, 0.0], \"text\": [\"\", \"\", \"Songs: <br>Turn On The Lights #35<br>Same Damn Time #62\", \"Songs: <br>Neva End #51<br>Honest #82\", \"\", \"\", \"Songs: <br>Wicked #34<br>Stick Talk #97\", \"Songs: <br>Mask Off #7\", \"\"]}]}, {\"frame\": {\"duration\": 300, \"redraw\": false}, \"transition\": {\"duration\": 300}}], \"label\": \"Future\", \"method\": \"animate\"}, {\"args\": [{\"name\": \"Kanye West\", \"data\": [{\"x\": [2010, 2011, 2012, 2013, 2014, 2015, 2016, 2017, 2018], \"y\": [1.0, 1.0, 0.0, 0.0, 1.0, 0.0, 3.0, 0.0, 1.0], \"text\": [\"Songs: <br>POWER #91\", \"Songs: <br>All Of The Lights #12\", \"\", \"\", \"Songs: <br>Bound 2 #71\", \"\", \"Songs: <br>Father Stretch My Hands Pt. 1 #38<br>Famous #60<br>Fade #93\", \"\", \"Songs: <br>All Mine #96\"]}]}, {\"frame\": {\"duration\": 300, \"redraw\": false}, \"transition\": {\"duration\": 300}}], \"label\": \"Kanye West\", \"method\": \"animate\"}, {\"args\": [{\"name\": \"Nicki Minaj\", \"data\": [{\"x\": [2010, 2011, 2012, 2013, 2014, 2015, 2016, 2017, 2018], \"y\": [1.0, 3.0, 0.0, 0.0, 2.0, 0.0, 0.0, 0.0, 1.0], \"text\": [\"Songs: <br>Your Love #26\", \"Songs: <br>Did It On'em #28<br>Super Bass #42<br>Right Thru Me #51\", \"\", \"\", \"Songs: <br>Anaconda #9<br>Pills N Potions #30\", \"\", \"\", \"\", \"Songs: <br>Chun-Li #49\"]}]}, {\"frame\": {\"duration\": 300, \"redraw\": false}, \"transition\": {\"duration\": 300}}], \"label\": \"Nicki Minaj\", \"method\": \"animate\"}, {\"args\": [{\"name\": \"Kendrick Lamar\", \"data\": [{\"x\": [2010, 2011, 2012, 2013, 2014, 2015, 2016, 2017, 2018], \"y\": [0.0, 0.0, 1.0, 1.0, 1.0, 0.0, 0.0, 3.0, 0.0], \"text\": [\"\", \"\", \"Songs: <br>Swimming Pools (Drank) #88\", \"Songs: <br>Bitch  Don't Kill My Vibe #20\", \"Songs: <br>i #65\", \"\", \"\", \"Songs: <br>Humble. #2<br>DNA. #29<br>Element. #76\", \"\"]}]}, {\"frame\": {\"duration\": 300, \"redraw\": false}, \"transition\": {\"duration\": 300}}], \"label\": \"Kendrick Lamar\", \"method\": \"animate\"}], \"font\": {\"color\": \"#000000\", \"size\": 11}, \"pad\": {\"l\": 0, \"t\": 0.0}, \"showactive\": false, \"x\": 1.2, \"xanchor\": \"right\", \"y\": 1.2, \"yanchor\": \"top\"}], \"yaxis\": {\"title\": {\"font\": {\"size\": 12}, \"text\": \"Number of hits on Hot 100\"}}},\n",
       "            {\"showLink\": false, \"linkText\": \"Export to plot.ly\", \"plotlyServerURL\": \"https://plot.ly\"}\n",
       "        ).then(function () {return Plotly.addFrames('13b54252-d2b9-45c4-9919-54343bb7309c',[{\"data\": [{\"text\": [\"Songs: <br>Find Your Love #15<br>Over #16\", \"Songs: <br>Headlines #33<br>Marvins Room #40\", \"\", \"Songs: <br>Started From The Bottom #7\", \"Songs: <br>0 To 100 / The Catch Up #29<br>The Language #61<br>Worst Behavior #92\", \"Songs: <br>Hotline Bling #8\", \"Songs: <br>Controlla #11<br>Summer Sixteen #39<br>Childs Play #56<br>Still Here #63<br>Hype #70\", \"Songs: <br>Fake Love #18<br>Passionfruit #31<br>Gyalchester #83\", \"Songs: <br>God's Plan #1<br>In My Feelings #3<br>Nice For What #5<br>Nonstop #27<br>I'm Upset #45<br>Mob Ties #94\"], \"x\": [2010, 2011, 2012, 2013, 2014, 2015, 2016, 2017, 2018], \"y\": [2.0, 2.0, 0.0, 1.0, 3.0, 1.0, 5.0, 3.0, 6.0], \"type\": \"scatter\"}], \"name\": \"Drake\"}]);}).then(function(){Plotly.animate('13b54252-d2b9-45c4-9919-54343bb7309c');})\n",
       "        });</script><script type=\"text/javascript\">window.addEventListener(\"resize\", function(){window._Plotly.Plots.resize(document.getElementById(\"13b54252-d2b9-45c4-9919-54343bb7309c\"));});</script>"
      ]
     },
     "metadata": {},
     "output_type": "display_data"
    }
   ],
   "source": [
    "top_10_rappers_line()"
   ]
  },
  {
   "cell_type": "code",
   "execution_count": null,
   "metadata": {},
   "outputs": [],
   "source": []
  }
 ],
 "metadata": {
  "kernelspec": {
   "display_name": "PythonData",
   "language": "python",
   "name": "pythondata"
  },
  "language_info": {
   "codemirror_mode": {
    "name": "ipython",
    "version": 3
   },
   "file_extension": ".py",
   "mimetype": "text/x-python",
   "name": "python",
   "nbconvert_exporter": "python",
   "pygments_lexer": "ipython3",
   "version": "3.6.0"
  },
  "toc": {
   "base_numbering": 1,
   "nav_menu": {},
   "number_sections": true,
   "sideBar": true,
   "skip_h1_title": false,
   "title_cell": "Table of Contents",
   "title_sidebar": "Contents",
   "toc_cell": false,
   "toc_position": {},
   "toc_section_display": true,
   "toc_window_display": false
  }
 },
 "nbformat": 4,
 "nbformat_minor": 2
}
