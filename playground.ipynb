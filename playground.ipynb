{
 "cells": [
  {
   "cell_type": "code",
   "execution_count": 2,
   "metadata": {},
   "outputs": [],
   "source": [
    "import requests\n",
    "import os"
   ]
  },
  {
   "cell_type": "code",
   "execution_count": 3,
   "metadata": {},
   "outputs": [
    {
     "name": "stdout",
     "output_type": "stream",
     "text": [
      "this exists\n"
     ]
    }
   ],
   "source": [
    "r = requests.get(\"https://www.billboard.com/charts/year-end/2010/skdfdfd\")\n",
    "r\n",
    "\n",
    "genre = 'pop'\n",
    "if not os.path.exists(f'db_backup/top_100_{genre}_.csv'):\n",
    "    print(\"This doesn't exist\")\n",
    "#     print(os.path.join(f'../top_100_{genre}.csv'))\n",
    "else: \n",
    "    print(\"this exists\")"
   ]
  },
  {
   "cell_type": "code",
   "execution_count": 1,
   "metadata": {},
   "outputs": [],
   "source": [
    "import numpy as np\n",
    "\n",
    "def make_conditions(col_list):\n",
    "\n",
    "    ''' Returns an array with lists of conditions for dropdown menus.'''\n",
    "    \n",
    "    # Make array full of False values with dimensions of input list.\n",
    "    array = np.full(shape=(len(col_list),len(col_list)), fill_value=False, dtype=bool)\n",
    "    \n",
    "    for i in range(len(array)):\n",
    "        array[i][i] = True\n",
    "\n",
    "    \n",
    "    return array"
   ]
  },
  {
   "cell_type": "code",
   "execution_count": 28,
   "metadata": {},
   "outputs": [
    {
     "name": "stdout",
     "output_type": "stream",
     "text": [
      "[0, 1, 2, 3, 4, 5]\n",
      "[[ True False False False False False]\n",
      " [False  True False False False False]\n",
      " [False False  True False False False]\n",
      " [False False False  True False False]\n",
      " [False False False False  True False]\n",
      " [False False False False False  True]]\n"
     ]
    }
   ],
   "source": [
    "test_cols = [poop for poop in range(6)]\n",
    "test_array = make_conditions(test_cols)\n",
    "print(test_cols)\n",
    "print(test_array)"
   ]
  },
  {
   "cell_type": "code",
   "execution_count": 29,
   "metadata": {},
   "outputs": [
    {
     "data": {
      "text/plain": [
       "array([[ True, False, False, False, False, False,  True],\n",
       "       [False,  True, False, False, False, False,  True],\n",
       "       [False, False,  True, False, False, False,  True],\n",
       "       [False, False, False,  True, False, False,  True],\n",
       "       [False, False, False, False,  True, False,  True],\n",
       "       [False, False, False, False, False,  True,  True]])"
      ]
     },
     "execution_count": 29,
     "metadata": {},
     "output_type": "execute_result"
    }
   ],
   "source": [
    "extra_option = np.full(shape=(len(test_cols),1),fill_value=True,dtype=bool)       \n",
    "np.append(test_array,extra_true,axis=1)"
   ]
  },
  {
   "cell_type": "code",
   "execution_count": 31,
   "metadata": {},
   "outputs": [
    {
     "data": {
      "text/plain": [
       "343"
      ]
     },
     "execution_count": 31,
     "metadata": {},
     "output_type": "execute_result"
    }
   ],
   "source": [
    "test_list = [1,2,3,4,6,7,343]\n",
    "max(test_list)"
   ]
  }
 ],
 "metadata": {
  "kernelspec": {
   "display_name": "PythonData",
   "language": "python",
   "name": "pythondata"
  },
  "language_info": {
   "codemirror_mode": {
    "name": "ipython",
    "version": 3
   },
   "file_extension": ".py",
   "mimetype": "text/x-python",
   "name": "python",
   "nbconvert_exporter": "python",
   "pygments_lexer": "ipython3",
   "version": "3.6.0"
  },
  "toc": {
   "base_numbering": 1,
   "nav_menu": {},
   "number_sections": true,
   "sideBar": true,
   "skip_h1_title": false,
   "title_cell": "Table of Contents",
   "title_sidebar": "Contents",
   "toc_cell": false,
   "toc_position": {},
   "toc_section_display": true,
   "toc_window_display": false
  }
 },
 "nbformat": 4,
 "nbformat_minor": 2
}
