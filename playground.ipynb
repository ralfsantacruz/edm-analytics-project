{
 "cells": [
  {
   "cell_type": "code",
   "execution_count": 2,
   "metadata": {},
   "outputs": [],
   "source": [
    "import requests\n",
    "import os"
   ]
  },
  {
   "cell_type": "code",
   "execution_count": 3,
   "metadata": {},
   "outputs": [
    {
     "name": "stdout",
     "output_type": "stream",
     "text": [
      "this exists\n"
     ]
    }
   ],
   "source": [
    "r = requests.get(\"https://www.billboard.com/charts/year-end/2010/skdfdfd\")\n",
    "r\n",
    "\n",
    "genre = 'pop'\n",
    "if not os.path.exists(f'db_backup/top_100_{genre}_.csv'):\n",
    "    print(\"This doesn't exist\")\n",
    "#     print(os.path.join(f'../top_100_{genre}.csv'))\n",
    "else: \n",
    "    print(\"this exists\")"
   ]
  },
  {
   "cell_type": "code",
   "execution_count": null,
   "metadata": {},
   "outputs": [],
   "source": []
  }
 ],
 "metadata": {
  "kernelspec": {
   "display_name": "PythonData",
   "language": "python",
   "name": "pythondata"
  },
  "toc": {
   "base_numbering": 1,
   "nav_menu": {},
   "number_sections": true,
   "sideBar": true,
   "skip_h1_title": false,
   "title_cell": "Table of Contents",
   "title_sidebar": "Contents",
   "toc_cell": false,
   "toc_position": {},
   "toc_section_display": true,
   "toc_window_display": false
  }
 },
 "nbformat": 4,
 "nbformat_minor": 2
}
