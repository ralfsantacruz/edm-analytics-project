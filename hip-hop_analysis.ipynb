{
 "cells": [
  {
   "cell_type": "code",
   "execution_count": 1,
   "metadata": {},
   "outputs": [
    {
     "data": {
      "text/html": [
       "<script type=\"text/javascript\">window.PlotlyConfig = {MathJaxConfig: 'local'};</script><script type=\"text/javascript\">if (window.MathJax) {MathJax.Hub.Config({SVG: {font: \"STIX-Web\"}});}</script><script>requirejs.config({paths: { 'plotly': ['https://cdn.plot.ly/plotly-latest.min']},});if(!window._Plotly) {require(['plotly'],function(plotly) {window._Plotly=plotly;});}</script>"
      ],
      "text/vnd.plotly.v1+html": [
       "<script type=\"text/javascript\">window.PlotlyConfig = {MathJaxConfig: 'local'};</script><script type=\"text/javascript\">if (window.MathJax) {MathJax.Hub.Config({SVG: {font: \"STIX-Web\"}});}</script><script>requirejs.config({paths: { 'plotly': ['https://cdn.plot.ly/plotly-latest.min']},});if(!window._Plotly) {require(['plotly'],function(plotly) {window._Plotly=plotly;});}</script>"
      ]
     },
     "metadata": {},
     "output_type": "display_data"
    }
   ],
   "source": [
    "import pandas as pd\n",
    "import requests\n",
    "from spotify_config import spotify_headers\n",
    "import numpy as np\n",
    "\n",
    "import plotly.plotly as py\n",
    "import plotly.graph_objs as go\n",
    "import plotly.offline as offline\n",
    "import seaborn as sns\n",
    "\n",
    "sns.set()\n",
    "offline.init_notebook_mode(connected=True)"
   ]
  },
  {
   "cell_type": "code",
   "execution_count": 2,
   "metadata": {},
   "outputs": [],
   "source": [
    "df = pd.read_csv(\"top_100_hip_hop_.csv\")"
   ]
  },
  {
   "cell_type": "code",
   "execution_count": 3,
   "metadata": {},
   "outputs": [
    {
     "data": {
      "text/html": [
       "<div>\n",
       "<style scoped>\n",
       "    .dataframe tbody tr th:only-of-type {\n",
       "        vertical-align: middle;\n",
       "    }\n",
       "\n",
       "    .dataframe tbody tr th {\n",
       "        vertical-align: top;\n",
       "    }\n",
       "\n",
       "    .dataframe thead th {\n",
       "        text-align: right;\n",
       "    }\n",
       "</style>\n",
       "<table border=\"1\" class=\"dataframe\">\n",
       "  <thead>\n",
       "    <tr style=\"text-align: right;\">\n",
       "      <th></th>\n",
       "      <th>year</th>\n",
       "      <th>artist</th>\n",
       "      <th>song</th>\n",
       "      <th>track_id</th>\n",
       "      <th>acousticness</th>\n",
       "      <th>analysis_url</th>\n",
       "      <th>danceability</th>\n",
       "      <th>duration_ms</th>\n",
       "      <th>energy</th>\n",
       "      <th>error</th>\n",
       "      <th>...</th>\n",
       "      <th>liveness</th>\n",
       "      <th>loudness</th>\n",
       "      <th>mode</th>\n",
       "      <th>speechiness</th>\n",
       "      <th>tempo</th>\n",
       "      <th>time_signature</th>\n",
       "      <th>track_href</th>\n",
       "      <th>type</th>\n",
       "      <th>uri</th>\n",
       "      <th>valence</th>\n",
       "    </tr>\n",
       "  </thead>\n",
       "  <tbody>\n",
       "    <tr>\n",
       "      <th>0</th>\n",
       "      <td>2010</td>\n",
       "      <td>Alicia Keys</td>\n",
       "      <td>Un-Thinkable (I'm Ready)</td>\n",
       "      <td>4JOP8ELK6AaeySe7sKe996</td>\n",
       "      <td>0.73200</td>\n",
       "      <td>https://api.spotify.com/v1/audio-analysis/4JOP...</td>\n",
       "      <td>0.595</td>\n",
       "      <td>249240.0</td>\n",
       "      <td>0.507</td>\n",
       "      <td>NaN</td>\n",
       "      <td>...</td>\n",
       "      <td>0.106</td>\n",
       "      <td>-7.892</td>\n",
       "      <td>1.0</td>\n",
       "      <td>0.0618</td>\n",
       "      <td>86.099</td>\n",
       "      <td>4.0</td>\n",
       "      <td>https://api.spotify.com/v1/tracks/4JOP8ELK6Aae...</td>\n",
       "      <td>audio_features</td>\n",
       "      <td>spotify:track:4JOP8ELK6AaeySe7sKe996</td>\n",
       "      <td>0.337</td>\n",
       "    </tr>\n",
       "    <tr>\n",
       "      <th>1</th>\n",
       "      <td>2010</td>\n",
       "      <td>Usher</td>\n",
       "      <td>There Goes My Baby</td>\n",
       "      <td>6IUiqtI8tE49sqGbmtrNd8</td>\n",
       "      <td>0.17500</td>\n",
       "      <td>https://api.spotify.com/v1/audio-analysis/6IUi...</td>\n",
       "      <td>0.626</td>\n",
       "      <td>281293.0</td>\n",
       "      <td>0.520</td>\n",
       "      <td>NaN</td>\n",
       "      <td>...</td>\n",
       "      <td>0.130</td>\n",
       "      <td>-8.077</td>\n",
       "      <td>0.0</td>\n",
       "      <td>0.0892</td>\n",
       "      <td>77.468</td>\n",
       "      <td>4.0</td>\n",
       "      <td>https://api.spotify.com/v1/tracks/6IUiqtI8tE49...</td>\n",
       "      <td>audio_features</td>\n",
       "      <td>spotify:track:6IUiqtI8tE49sqGbmtrNd8</td>\n",
       "      <td>0.257</td>\n",
       "    </tr>\n",
       "    <tr>\n",
       "      <th>2</th>\n",
       "      <td>2010</td>\n",
       "      <td>Melanie Fiona</td>\n",
       "      <td>It Kills Me</td>\n",
       "      <td>6qU37BgVfPhpb2rhYzZWrF</td>\n",
       "      <td>0.21500</td>\n",
       "      <td>https://api.spotify.com/v1/audio-analysis/6qU3...</td>\n",
       "      <td>0.620</td>\n",
       "      <td>250413.0</td>\n",
       "      <td>0.789</td>\n",
       "      <td>NaN</td>\n",
       "      <td>...</td>\n",
       "      <td>0.100</td>\n",
       "      <td>-4.265</td>\n",
       "      <td>1.0</td>\n",
       "      <td>0.0469</td>\n",
       "      <td>107.359</td>\n",
       "      <td>4.0</td>\n",
       "      <td>https://api.spotify.com/v1/tracks/6qU37BgVfPhp...</td>\n",
       "      <td>audio_features</td>\n",
       "      <td>spotify:track:6qU37BgVfPhpb2rhYzZWrF</td>\n",
       "      <td>0.444</td>\n",
       "    </tr>\n",
       "    <tr>\n",
       "      <th>3</th>\n",
       "      <td>2010</td>\n",
       "      <td>Monica</td>\n",
       "      <td>Everything To Me</td>\n",
       "      <td>4ZOkuIDN8wRczzu1XUYC4y</td>\n",
       "      <td>0.47900</td>\n",
       "      <td>https://api.spotify.com/v1/audio-analysis/4ZOk...</td>\n",
       "      <td>0.308</td>\n",
       "      <td>196960.0</td>\n",
       "      <td>0.529</td>\n",
       "      <td>NaN</td>\n",
       "      <td>...</td>\n",
       "      <td>0.441</td>\n",
       "      <td>-5.319</td>\n",
       "      <td>0.0</td>\n",
       "      <td>0.0874</td>\n",
       "      <td>80.794</td>\n",
       "      <td>4.0</td>\n",
       "      <td>https://api.spotify.com/v1/tracks/4ZOkuIDN8wRc...</td>\n",
       "      <td>audio_features</td>\n",
       "      <td>spotify:track:4ZOkuIDN8wRczzu1XUYC4y</td>\n",
       "      <td>0.485</td>\n",
       "    </tr>\n",
       "    <tr>\n",
       "      <th>4</th>\n",
       "      <td>2010</td>\n",
       "      <td>Trey Songz Featuring Fabolous</td>\n",
       "      <td>Say Aah</td>\n",
       "      <td>2fQ6sBFWaLv2Gxos4igHLy</td>\n",
       "      <td>0.00453</td>\n",
       "      <td>https://api.spotify.com/v1/audio-analysis/2fQ6...</td>\n",
       "      <td>0.724</td>\n",
       "      <td>207547.0</td>\n",
       "      <td>0.870</td>\n",
       "      <td>NaN</td>\n",
       "      <td>...</td>\n",
       "      <td>0.833</td>\n",
       "      <td>-3.614</td>\n",
       "      <td>0.0</td>\n",
       "      <td>0.1130</td>\n",
       "      <td>93.010</td>\n",
       "      <td>4.0</td>\n",
       "      <td>https://api.spotify.com/v1/tracks/2fQ6sBFWaLv2...</td>\n",
       "      <td>audio_features</td>\n",
       "      <td>spotify:track:2fQ6sBFWaLv2Gxos4igHLy</td>\n",
       "      <td>0.810</td>\n",
       "    </tr>\n",
       "  </tbody>\n",
       "</table>\n",
       "<p>5 rows × 23 columns</p>\n",
       "</div>"
      ],
      "text/plain": [
       "   year                         artist                      song  \\\n",
       "0  2010                    Alicia Keys  Un-Thinkable (I'm Ready)   \n",
       "1  2010                          Usher        There Goes My Baby   \n",
       "2  2010                  Melanie Fiona               It Kills Me   \n",
       "3  2010                         Monica          Everything To Me   \n",
       "4  2010  Trey Songz Featuring Fabolous                   Say Aah   \n",
       "\n",
       "                 track_id  acousticness  \\\n",
       "0  4JOP8ELK6AaeySe7sKe996       0.73200   \n",
       "1  6IUiqtI8tE49sqGbmtrNd8       0.17500   \n",
       "2  6qU37BgVfPhpb2rhYzZWrF       0.21500   \n",
       "3  4ZOkuIDN8wRczzu1XUYC4y       0.47900   \n",
       "4  2fQ6sBFWaLv2Gxos4igHLy       0.00453   \n",
       "\n",
       "                                        analysis_url  danceability  \\\n",
       "0  https://api.spotify.com/v1/audio-analysis/4JOP...         0.595   \n",
       "1  https://api.spotify.com/v1/audio-analysis/6IUi...         0.626   \n",
       "2  https://api.spotify.com/v1/audio-analysis/6qU3...         0.620   \n",
       "3  https://api.spotify.com/v1/audio-analysis/4ZOk...         0.308   \n",
       "4  https://api.spotify.com/v1/audio-analysis/2fQ6...         0.724   \n",
       "\n",
       "   duration_ms  energy error   ...   liveness  loudness  mode  speechiness  \\\n",
       "0     249240.0   0.507   NaN   ...      0.106    -7.892   1.0       0.0618   \n",
       "1     281293.0   0.520   NaN   ...      0.130    -8.077   0.0       0.0892   \n",
       "2     250413.0   0.789   NaN   ...      0.100    -4.265   1.0       0.0469   \n",
       "3     196960.0   0.529   NaN   ...      0.441    -5.319   0.0       0.0874   \n",
       "4     207547.0   0.870   NaN   ...      0.833    -3.614   0.0       0.1130   \n",
       "\n",
       "     tempo  time_signature                                         track_href  \\\n",
       "0   86.099             4.0  https://api.spotify.com/v1/tracks/4JOP8ELK6Aae...   \n",
       "1   77.468             4.0  https://api.spotify.com/v1/tracks/6IUiqtI8tE49...   \n",
       "2  107.359             4.0  https://api.spotify.com/v1/tracks/6qU37BgVfPhp...   \n",
       "3   80.794             4.0  https://api.spotify.com/v1/tracks/4ZOkuIDN8wRc...   \n",
       "4   93.010             4.0  https://api.spotify.com/v1/tracks/2fQ6sBFWaLv2...   \n",
       "\n",
       "             type                                   uri valence  \n",
       "0  audio_features  spotify:track:4JOP8ELK6AaeySe7sKe996   0.337  \n",
       "1  audio_features  spotify:track:6IUiqtI8tE49sqGbmtrNd8   0.257  \n",
       "2  audio_features  spotify:track:6qU37BgVfPhpb2rhYzZWrF   0.444  \n",
       "3  audio_features  spotify:track:4ZOkuIDN8wRczzu1XUYC4y   0.485  \n",
       "4  audio_features  spotify:track:2fQ6sBFWaLv2Gxos4igHLy   0.810  \n",
       "\n",
       "[5 rows x 23 columns]"
      ]
     },
     "execution_count": 3,
     "metadata": {},
     "output_type": "execute_result"
    }
   ],
   "source": [
    "df.head()"
   ]
  },
  {
   "cell_type": "code",
   "execution_count": 4,
   "metadata": {},
   "outputs": [
    {
     "name": "stdout",
     "output_type": "stream",
     "text": [
      "[1, 2, 3, 4, 5, 6, 7, 8, 9, 10, 11, 12, 13, 14, 15, 16, 17, 18, 19, 20, 21, 22, 23, 24, 25, 26, 27, 28, 29, 30, 31, 32, 33, 34, 35, 36, 37, 38, 39, 40, 41, 42, 43, 44, 45, 46, 47, 48, 49, 50, 51, 52, 53, 54, 55, 56, 57, 58, 59, 60, 61, 62, 63, 64, 65, 66, 67, 68, 69, 70, 71, 72, 73, 74, 75, 76, 77, 78, 79, 80, 81, 82, 83, 84, 85, 86, 87, 88, 89, 90, 91, 92, 93, 94, 95, 1, 2, 3, 4, 5, 6, 7, 8, 9, 10, 11, 12, 13, 14, 15, 16, 17, 18, 19, 20, 21, 22, 23, 24, 25, 26, 27, 28, 29, 30, 31, 32, 33, 34, 35, 36, 37, 38, 39, 40, 41, 42, 43, 44, 45, 46, 47, 48, 49, 50, 51, 52, 53, 54, 55, 56, 57, 58, 59, 60, 61, 62, 63, 64, 65, 66, 67, 68, 69, 70, 71, 72, 73, 74, 75, 76, 77, 78, 79, 80, 81, 82, 83, 1, 2, 3, 4, 5, 6, 7, 8, 9, 10, 11, 12, 13, 14, 15, 16, 17, 18, 19, 20, 21, 22, 23, 24, 25, 26, 27, 28, 29, 30, 31, 32, 33, 34, 35, 36, 37, 38, 39, 40, 41, 42, 43, 44, 45, 46, 47, 48, 49, 50, 51, 52, 53, 54, 55, 56, 57, 58, 59, 60, 61, 62, 63, 64, 65, 66, 67, 68, 69, 70, 71, 72, 73, 74, 75, 76, 77, 78, 79, 80, 81, 82, 83, 84, 85, 1, 2, 3, 4, 5, 6, 7, 8, 9, 10, 11, 12, 13, 14, 15, 16, 17, 18, 19, 20, 21, 22, 23, 24, 25, 26, 27, 28, 29, 30, 31, 32, 33, 34, 35, 36, 37, 38, 39, 40, 41, 42, 43, 44, 45, 46, 47, 48, 49, 50, 51, 52, 53, 54, 55, 56, 57, 58, 59, 60, 61, 62, 63, 64, 65, 66, 67, 68, 69, 70, 71, 72, 73, 74, 75, 76, 77, 78, 79, 80, 81, 82, 1, 2, 3, 4, 5, 6, 7, 8, 9, 10, 11, 12, 13, 14, 15, 16, 17, 18, 19, 20, 21, 22, 23, 24, 25, 26, 27, 28, 29, 30, 31, 32, 33, 34, 35, 36, 37, 38, 39, 40, 41, 42, 43, 44, 45, 46, 47, 48, 49, 50, 51, 52, 53, 54, 55, 56, 57, 58, 59, 60, 61, 62, 63, 64, 65, 66, 67, 68, 69, 70, 71, 72, 73, 74, 1, 2, 3, 4, 5, 6, 7, 8, 9, 10, 11, 12, 13, 14, 15, 16, 17, 18, 19, 20, 21, 1, 2, 3, 4, 5, 6, 7, 8, 9, 10, 11, 12, 13, 14, 15, 16, 17, 18, 19, 20, 21, 22, 23, 24, 25, 26, 27, 28, 29, 30, 31, 32, 33, 34, 35, 36, 37, 38, 39, 40, 41, 42, 43, 44, 45, 46, 47, 48, 49, 50, 51, 52, 53, 54, 55, 56, 57, 58, 59, 60, 61, 62, 63, 64, 65, 66, 67, 68, 69, 70, 71, 72, 73, 74, 75, 76, 77, 78, 79, 80, 81, 82, 83, 84, 85, 86, 87, 88, 89, 90, 91, 92, 93, 1, 2, 3, 4, 5, 6, 7, 8, 9, 10, 11, 12, 13, 14, 15, 16, 17, 18, 19, 20, 21, 22, 23, 24, 25, 26, 27, 28, 29, 30, 31, 32, 33, 34, 35, 36, 37, 38, 39, 40, 41, 42, 43, 44, 45, 46, 47, 48, 49, 50, 51, 52, 53, 54, 55, 56, 57, 58, 59, 60, 61, 62, 63, 64, 65, 66, 67, 68, 69, 70, 71, 72, 73, 74, 75, 76, 77, 1, 2, 3, 4, 5, 6, 7, 8, 9, 10, 11, 12, 13, 14, 15, 16, 17, 18, 19, 20, 21, 22, 23, 24, 25, 26, 27, 28, 29, 30, 31, 32, 33, 34, 35, 36, 37, 38, 39, 40, 41, 42, 43, 44, 45, 46, 47, 48, 49, 50, 51, 52, 53, 54, 55, 56, 57, 58, 59, 60, 61, 62, 63, 64, 65, 66, 67, 68, 69, 70, 71, 72, 73, 74, 75, 76, 77, 78]\n"
     ]
    }
   ],
   "source": [
    "rank=[]\n",
    "\n",
    "# Create ranks for each artist.\n",
    "for year in sorted(list(set(df['year']))):\n",
    "    rank+=[i+1 for i in range(len(df[df['year']==year]))]\n",
    "print(rank)\n",
    "\n",
    "df['rank'] = rank"
   ]
  },
  {
   "cell_type": "code",
   "execution_count": 5,
   "metadata": {},
   "outputs": [],
   "source": [
    "# sns.scatterplot(x=df['danceability'],y=df['energy'],hue=df['year'])"
   ]
  },
  {
   "cell_type": "code",
   "execution_count": 6,
   "metadata": {
    "scrolled": true
   },
   "outputs": [],
   "source": [
    "# cols = ['acousticness', 'danceability', 'energy', 'loudness', 'speechiness', 'valence']\n",
    "# # sns.scatterplot(x=merged['danceability'],y=merged['energy'],hue=merged['year'])\n",
    "# sns.pairplot(data=df[cols].dropna(), diag_kind='kde')"
   ]
  },
  {
   "cell_type": "code",
   "execution_count": 7,
   "metadata": {},
   "outputs": [],
   "source": [
    "data = []\n",
    "# artist=\"Drake\"\n",
    "year = 2010\n",
    "\n",
    "new_df = df\n",
    "\n",
    "trace = go.Scatter3d(\n",
    "    x=new_df['danceability'],\n",
    "    y=new_df['energy'],\n",
    "    z=new_df['loudness'],\n",
    "    mode='markers',\n",
    "    marker=dict(\n",
    "        size=4,\n",
    "        color=\"teal\",\n",
    "        line=dict(\n",
    "            width=0.1),\n",
    "        opacity=.8\n",
    "    ),\n",
    "    name=year,\n",
    "    text=[f'Title: {song}<br>Artist: {artist}' for song,artist in zip(new_df['song'],new_df['artist'])]\n",
    "\n",
    ")\n",
    "data.append(trace)\n",
    "# year+=1\n",
    "\n",
    "layout = go.Layout(\n",
    "    title=\"Top of the Decade, by Audio Features\",\n",
    "    scene = dict(\n",
    "        annotations=[\n",
    "            dict(\n",
    "                x = 0.932,\n",
    "                y = 0.819,\n",
    "                z = -3.484,\n",
    "                ax = 0,\n",
    "                ay =-150,\n",
    "                text = \"WTF by Missy Elliot/Pharrell<br>comes in as what<br>we consider a <br>club banger.\",\n",
    "                arrowhead = 1,\n",
    "                xanchor = \"auto\",\n",
    "                yanchor = \"top\"),\n",
    "            dict(\n",
    "                x=0.492,\n",
    "                y=0.26,\n",
    "                z=-17.341,\n",
    "                ax = 50,\n",
    "                ay = 0,\n",
    "                text = \"Marvin's Room by Drake<br>comes in as the quietest,<br>least danceable.\",\n",
    "                arrowhead = 1,\n",
    "                xanchor = \"left\",\n",
    "                yanchor = \"bottom\")\n",
    "        ],\n",
    "    aspectratio = dict(\n",
    "      x = 1,\n",
    "      y = 1,\n",
    "      z = 1\n",
    "    ),\n",
    "    camera = dict(\n",
    "      center = dict(\n",
    "        x = 0,\n",
    "        y = 0,\n",
    "        z = 0\n",
    "      ),\n",
    "      eye = dict(\n",
    "        x = 1.96903462608,\n",
    "        y = -1.09022831971,\n",
    "        z = 0.405345349304\n",
    "      ),\n",
    "      up = dict(\n",
    "        x = 0,\n",
    "        y = 0,\n",
    "        z = 1\n",
    "      )\n",
    "    ),\n",
    "    dragmode = \"turntable\",\n",
    "    xaxis = dict(\n",
    "      title = \"Danceability\"\n",
    "    ),\n",
    "    yaxis = dict(\n",
    "      title = \"Energy\"\n",
    "    ),\n",
    "    zaxis = dict(\n",
    "      title = \"Loudness\"\n",
    "    ),\n",
    "    ),\n",
    "    margin=dict(\n",
    "        l=0,\n",
    "        r=0,\n",
    "        b=0,\n",
    "        t=30\n",
    "    )\n",
    ")\n",
    "\n",
    "\n",
    "fig = go.Figure(data=data, layout=layout)\n",
    "\n",
    "# offline.plot(fig, include_plotlyjs=False, output_type='div')\n",
    "# offline.iplot(fig)"
   ]
  },
  {
   "cell_type": "code",
   "execution_count": 8,
   "metadata": {},
   "outputs": [
    {
     "data": {
      "text/html": [
       "<div>\n",
       "<style scoped>\n",
       "    .dataframe tbody tr th:only-of-type {\n",
       "        vertical-align: middle;\n",
       "    }\n",
       "\n",
       "    .dataframe tbody tr th {\n",
       "        vertical-align: top;\n",
       "    }\n",
       "\n",
       "    .dataframe thead th {\n",
       "        text-align: right;\n",
       "    }\n",
       "</style>\n",
       "<table border=\"1\" class=\"dataframe\">\n",
       "  <thead>\n",
       "    <tr style=\"text-align: right;\">\n",
       "      <th></th>\n",
       "      <th>year</th>\n",
       "      <th>artist</th>\n",
       "      <th>song</th>\n",
       "      <th>track_id</th>\n",
       "      <th>acousticness</th>\n",
       "      <th>analysis_url</th>\n",
       "      <th>danceability</th>\n",
       "      <th>duration_ms</th>\n",
       "      <th>energy</th>\n",
       "      <th>error</th>\n",
       "      <th>...</th>\n",
       "      <th>loudness</th>\n",
       "      <th>mode</th>\n",
       "      <th>speechiness</th>\n",
       "      <th>tempo</th>\n",
       "      <th>time_signature</th>\n",
       "      <th>track_href</th>\n",
       "      <th>type</th>\n",
       "      <th>uri</th>\n",
       "      <th>valence</th>\n",
       "      <th>rank</th>\n",
       "    </tr>\n",
       "  </thead>\n",
       "  <tbody>\n",
       "    <tr>\n",
       "      <th>129</th>\n",
       "      <td>2011</td>\n",
       "      <td>Drake</td>\n",
       "      <td>Marvins Room</td>\n",
       "      <td>047fCsbO4NdmwCBn8pcUXl</td>\n",
       "      <td>0.646</td>\n",
       "      <td>https://api.spotify.com/v1/audio-analysis/047f...</td>\n",
       "      <td>0.492</td>\n",
       "      <td>347227.0</td>\n",
       "      <td>0.26</td>\n",
       "      <td>NaN</td>\n",
       "      <td>...</td>\n",
       "      <td>-17.341</td>\n",
       "      <td>0.0</td>\n",
       "      <td>0.0921</td>\n",
       "      <td>111.519</td>\n",
       "      <td>5.0</td>\n",
       "      <td>https://api.spotify.com/v1/tracks/047fCsbO4Ndm...</td>\n",
       "      <td>audio_features</td>\n",
       "      <td>spotify:track:047fCsbO4NdmwCBn8pcUXl</td>\n",
       "      <td>0.312</td>\n",
       "      <td>35</td>\n",
       "    </tr>\n",
       "  </tbody>\n",
       "</table>\n",
       "<p>1 rows × 24 columns</p>\n",
       "</div>"
      ],
      "text/plain": [
       "     year artist          song                track_id  acousticness  \\\n",
       "129  2011  Drake  Marvins Room  047fCsbO4NdmwCBn8pcUXl         0.646   \n",
       "\n",
       "                                          analysis_url  danceability  \\\n",
       "129  https://api.spotify.com/v1/audio-analysis/047f...         0.492   \n",
       "\n",
       "     duration_ms  energy error ...  loudness  mode  speechiness    tempo  \\\n",
       "129     347227.0    0.26   NaN ...   -17.341   0.0       0.0921  111.519   \n",
       "\n",
       "     time_signature                                         track_href  \\\n",
       "129             5.0  https://api.spotify.com/v1/tracks/047fCsbO4Ndm...   \n",
       "\n",
       "               type                                   uri  valence rank  \n",
       "129  audio_features  spotify:track:047fCsbO4NdmwCBn8pcUXl    0.312   35  \n",
       "\n",
       "[1 rows x 24 columns]"
      ]
     },
     "execution_count": 8,
     "metadata": {},
     "output_type": "execute_result"
    }
   ],
   "source": [
    "df.loc[df['song']==\"Marvins Room\"]"
   ]
  },
  {
   "cell_type": "code",
   "execution_count": 9,
   "metadata": {},
   "outputs": [],
   "source": [
    "def top_10_rappers():\n",
    "    top_10 = pd.DataFrame(df['artist'].value_counts()[:10])\n",
    "\n",
    "    trace = go.Bar(\n",
    "    x=top_10['artist'][::-1],\n",
    "    y=top_10.index[::-1],\n",
    "    orientation='h',\n",
    "    marker=dict(\n",
    "        color=top_10['artist'][::-1],\n",
    "        colorscale='Greens',\n",
    "        reversescale=True,\n",
    "        line=dict(\n",
    "            width=1.5\n",
    "        )\n",
    "    ),\n",
    "\n",
    "    )\n",
    "\n",
    "    fig = go.Figure(data=[trace])\n",
    "    \n",
    "    return offline.plot(fig, include_plotlyjs=False, output_type='div')"
   ]
  },
  {
   "cell_type": "code",
   "execution_count": 10,
   "metadata": {},
   "outputs": [
    {
     "data": {
      "text/plain": [
       "'<div><div id=\"aa78faf5-7a2f-4163-a92b-bbb8f9246373\" style=\"height: 100%; width: 100%;\" class=\"plotly-graph-div\"></div><script type=\"text/javascript\">window.PLOTLYENV=window.PLOTLYENV || {};window.PLOTLYENV.BASE_URL=\"https://plot.ly\";Plotly.newPlot(\"aa78faf5-7a2f-4163-a92b-bbb8f9246373\", [{\"marker\": {\"color\": [6, 7, 7, 7, 8, 8, 9, 10, 10, 23], \"colorscale\": \"Greens\", \"line\": {\"width\": 1.5}, \"reversescale\": true}, \"orientation\": \"h\", \"x\": [6, 7, 7, 7, 8, 8, 9, 10, 10, 23], \"y\": [\"Kendrick Lamar\", \"Nicki Minaj\", \"Future\", \"Kanye West\", \"Rihanna\", \"Trey Songz\", \"Chris Brown\", \"The Weeknd\", \"Beyonce\", \"Drake\"], \"type\": \"bar\", \"uid\": \"bba828c6-c8ed-4174-9ddc-11a5f23bc6fe\"}], {}, {\"showLink\": false, \"linkText\": \"Export to plot.ly\", \"plotlyServerURL\": \"https://plot.ly\"})</script><script type=\"text/javascript\">window.addEventListener(\"resize\", function(){Plotly.Plots.resize(document.getElementById(\"aa78faf5-7a2f-4163-a92b-bbb8f9246373\"));});</script></div>'"
      ]
     },
     "execution_count": 10,
     "metadata": {},
     "output_type": "execute_result"
    }
   ],
   "source": [
    "top_10_rappers()"
   ]
  },
  {
   "cell_type": "code",
   "execution_count": 15,
   "metadata": {},
   "outputs": [],
   "source": [
    "def grouped_artists():   \n",
    "    top_10 = pd.DataFrame(df['artist'].value_counts()[:10])\n",
    "    top_artists = list(top_10.index)\n",
    "\n",
    "    # get all top 10 artist's songs:\n",
    "    all_by_top = df.loc[df['artist'].isin(top_artists)]\n",
    "\n",
    "    grouped = pd.DataFrame(all_by_top.groupby(['artist','year'])['rank'].count())\n",
    "    grouped['rank'] = round(grouped['rank'],2)\n",
    "\n",
    "    new_df = grouped.unstack()\n",
    "\n",
    "    dic = new_df.fillna(0).to_dict()\n",
    "\n",
    "    return dic,top_artists\n",
    "\n",
    "def make_string(artist,year):\n",
    "    x = list(df[(df['artist']==artist)&(df['year']==year)]['song'])\n",
    "    y = list(df[(df['artist']==artist)&(df['year']==year)]['rank'])\n",
    "    \n",
    "    if x:\n",
    "        s = 'Songs: ' \n",
    "\n",
    "\n",
    "        for song,rank in zip(x,y):\n",
    "            s+= f'''<br>{song} #{rank}'''\n",
    "    else:\n",
    "        return ''\n",
    "        \n",
    "    return s\n",
    "\n",
    "def make_conditions(col_list):\n",
    "    \n",
    "    ''' Returns an array with lists of conditions for dropdown menus.'''\n",
    "    \n",
    "    # Make array full of False values with dimensions of input list.\n",
    "    array = np.full(shape=(len(col_list),len(col_list)), fill_value=False, dtype=bool)\n",
    "    \n",
    "    for i in range(len(array)):\n",
    "        array[i][i] = True\n",
    "    \n",
    "    return array\n"
   ]
  },
  {
   "cell_type": "code",
   "execution_count": 12,
   "metadata": {},
   "outputs": [],
   "source": []
  },
  {
   "cell_type": "code",
   "execution_count": 13,
   "metadata": {},
   "outputs": [],
   "source": []
  },
  {
   "cell_type": "code",
   "execution_count": 18,
   "metadata": {
    "scrolled": false
   },
   "outputs": [
    {
     "data": {
      "application/vnd.plotly.v1+json": {
       "config": {
        "linkText": "Export to plot.ly",
        "plotlyServerURL": "https://plot.ly",
        "showLink": false
       },
       "data": [
        {
         "mode": "lines",
         "name": "Drake",
         "text": [
          "Songs: <br>Find Your Love #15<br>Over #16",
          "Songs: <br>Headlines #29<br>Marvins Room #35",
          "",
          "Songs: <br>Started From The Bottom #6",
          "Songs: <br>0 To 100 / The Catch Up #23<br>The Language #47<br>Worst Behavior #69",
          "Songs: <br>Hotline Bling #8",
          "Songs: <br>Controlla #9<br>Summer Sixteen #36<br>Childs Play #52<br>Still Here #59<br>Hype #66",
          "Songs: <br>Fake Love #14<br>Passionfruit #24<br>Gyalchester #66",
          "Songs: <br>God's Plan #1<br>In My Feelings #3<br>Nice For What #5<br>Nonstop #24<br>I'm Upset #36<br>Mob Ties #74"
         ],
         "type": "scattergl",
         "uid": "e9385f07-799d-4062-93e5-9f17974e0d03",
         "x": [
          2010,
          2011,
          2012,
          2013,
          2014,
          2015,
          2016,
          2017,
          2018
         ],
         "y": [
          2,
          2,
          0,
          1,
          3,
          1,
          5,
          3,
          6
         ]
        },
        {
         "mode": "lines",
         "name": "Beyonce",
         "text": [
          "",
          "Songs: <br>Best Thing I Never Had #21",
          "Songs: <br>Love On Top #1<br>Dance For You #30<br>Countdown #54",
          "",
          "Songs: <br>Partition #17<br>XO #46",
          "Songs: <br>11-Jul #17",
          "Songs: <br>Sorry #21<br>Hold Up #43<br>Formation #53",
          "",
          ""
         ],
         "type": "scattergl",
         "uid": "58124089-e845-4102-b6a4-f703b63dd79c",
         "x": [
          2010,
          2011,
          2012,
          2013,
          2014,
          2015,
          2016,
          2017,
          2018
         ],
         "y": [
          0,
          1,
          3,
          0,
          2,
          1,
          3,
          0,
          0
         ]
        },
        {
         "mode": "lines",
         "name": "The Weeknd",
         "text": [
          "",
          "",
          "",
          "Songs: <br>Wicked Games #34",
          "Songs: <br>Often #72",
          "Songs: <br>The Hills #4<br>Can't Feel My Face #5<br>Earned It (Fifty Shades Of Grey) #6",
          "Songs: <br>In The Night #18<br>Acquainted #74",
          "Songs: <br>Party Monster #45<br>Reminder #56",
          "Songs: <br>Call Out My Name #35"
         ],
         "type": "scattergl",
         "uid": "9cc2cd53-f139-4142-8498-2d0182847c48",
         "x": [
          2010,
          2011,
          2012,
          2013,
          2014,
          2015,
          2016,
          2017,
          2018
         ],
         "y": [
          0,
          0,
          0,
          1,
          1,
          3,
          2,
          2,
          1
         ]
        },
        {
         "mode": "lines",
         "name": "Chris Brown",
         "text": [
          "",
          "Songs: <br>She Ain't You #7<br>No BS #13",
          "Songs: <br>Sweet Love #71",
          "Songs: <br>Fine China #24<br>Don't Judge Me #56",
          "",
          "",
          "Songs: <br>Back To Sleep #29<br>Grass Ain't Greener #87",
          "Songs: <br>Privacy #54<br>Questions #76",
          ""
         ],
         "type": "scattergl",
         "uid": "6d1d303a-1331-455d-a86c-e91fcada3139",
         "x": [
          2010,
          2011,
          2012,
          2013,
          2014,
          2015,
          2016,
          2017,
          2018
         ],
         "y": [
          0,
          2,
          1,
          2,
          0,
          0,
          2,
          2,
          0
         ]
        },
        {
         "mode": "lines",
         "name": "Trey Songz",
         "text": [
          "Songs: <br>Neighbors Know My Name #6<br>Can't Be Friends #44",
          "Songs: <br>Love Faces #10",
          "Songs: <br>Heart Attack #6<br>Sex Ain't Better Than Love #35<br>Dive In #39",
          "",
          "Songs: <br>Na Na #14<br>Foreign #53",
          "",
          "",
          "",
          ""
         ],
         "type": "scattergl",
         "uid": "de80f38d-38e2-4335-a8f1-8ecdd0364e0d",
         "x": [
          2010,
          2011,
          2012,
          2013,
          2014,
          2015,
          2016,
          2017,
          2018
         ],
         "y": [
          2,
          1,
          3,
          0,
          2,
          0,
          0,
          0,
          0
         ]
        },
        {
         "mode": "lines",
         "name": "Rihanna",
         "text": [
          "Songs: <br>Rude Boy #25",
          "Songs: <br>Man Down #41",
          "",
          "Songs: <br>Diamonds #5<br>Pour It Up #10",
          "",
          "",
          "Songs: <br>Needed Me #4<br>Kiss It Better #67<br>Sex With Me #78",
          "Songs: <br>Love On The Brain #17",
          ""
         ],
         "type": "scattergl",
         "uid": "ffce22a0-bbf5-434f-9395-bc8e9f620110",
         "x": [
          2010,
          2011,
          2012,
          2013,
          2014,
          2015,
          2016,
          2017,
          2018
         ],
         "y": [
          1,
          1,
          0,
          2,
          0,
          0,
          3,
          1,
          0
         ]
        },
        {
         "mode": "lines",
         "name": "Kanye West",
         "text": [
          "Songs: <br>POWER #86",
          "Songs: <br>All Of The Lights #8",
          "",
          "",
          "Songs: <br>Bound 2 #55",
          "",
          "Songs: <br>Father Stretch My Hands Pt. 1 #35<br>Famous #56<br>Fade #88",
          "",
          "Songs: <br>All Mine #75"
         ],
         "type": "scattergl",
         "uid": "eb71114d-db85-47c3-8d7b-f3483162600b",
         "x": [
          2010,
          2011,
          2012,
          2013,
          2014,
          2015,
          2016,
          2017,
          2018
         ],
         "y": [
          1,
          1,
          0,
          0,
          1,
          0,
          3,
          0,
          1
         ]
        },
        {
         "mode": "lines",
         "name": "Future",
         "text": [
          "",
          "",
          "Songs: <br>Turn On The Lights #32<br>Same Damn Time #55",
          "Songs: <br>Neva End #38<br>Honest #67",
          "",
          "",
          "Songs: <br>Wicked #31<br>Stick Talk #92",
          "Songs: <br>Mask Off #6",
          ""
         ],
         "type": "scattergl",
         "uid": "bf1b1e20-a4ad-44e2-8b20-17c930a90c34",
         "x": [
          2010,
          2011,
          2012,
          2013,
          2014,
          2015,
          2016,
          2017,
          2018
         ],
         "y": [
          0,
          0,
          2,
          2,
          0,
          0,
          2,
          1,
          0
         ]
        },
        {
         "mode": "lines",
         "name": "Nicki Minaj",
         "text": [
          "Songs: <br>Your Love #26",
          "Songs: <br>Did It On'em #24<br>Super Bass #37<br>Right Thru Me #45",
          "",
          "",
          "Songs: <br>Anaconda #8<br>Pills N Potions #24",
          "",
          "",
          "",
          "Songs: <br>Chun-Li #40"
         ],
         "type": "scattergl",
         "uid": "6bb840fb-7c26-4755-9ded-ee622a318528",
         "x": [
          2010,
          2011,
          2012,
          2013,
          2014,
          2015,
          2016,
          2017,
          2018
         ],
         "y": [
          1,
          3,
          0,
          0,
          2,
          0,
          0,
          0,
          1
         ]
        },
        {
         "mode": "lines",
         "name": "Kendrick Lamar",
         "text": [
          "",
          "",
          "Songs: <br>Swimming Pools (Drank) #77",
          "Songs: <br>Bitch  Don't Kill My Vibe #13",
          "Songs: <br>i #50",
          "",
          "",
          "Songs: <br>Humble. #2<br>DNA. #23<br>Element. #60",
          ""
         ],
         "type": "scattergl",
         "uid": "840563a2-aee5-40e5-9d44-eadee06892fd",
         "x": [
          2010,
          2011,
          2012,
          2013,
          2014,
          2015,
          2016,
          2017,
          2018
         ],
         "y": [
          0,
          0,
          1,
          1,
          1,
          0,
          0,
          3,
          0
         ]
        }
       ],
       "layout": {
        "showlegend": false,
        "updatemenus": [
         {
          "bgcolor": "#AAAAAA",
          "bordercolor": "#FFFFFF",
          "buttons": [
           {
            "args": [
             {
              "visible": [
               true,
               false,
               false,
               false,
               false,
               false,
               false,
               false,
               false,
               false
              ]
             }
            ],
            "label": "Drake",
            "method": "restyle"
           },
           {
            "args": [
             {
              "visible": [
               false,
               true,
               false,
               false,
               false,
               false,
               false,
               false,
               false,
               false
              ]
             }
            ],
            "label": "Beyonce",
            "method": "restyle"
           },
           {
            "args": [
             {
              "visible": [
               false,
               false,
               true,
               false,
               false,
               false,
               false,
               false,
               false,
               false
              ]
             }
            ],
            "label": "The Weeknd",
            "method": "restyle"
           },
           {
            "args": [
             {
              "visible": [
               false,
               false,
               false,
               true,
               false,
               false,
               false,
               false,
               false,
               false
              ]
             }
            ],
            "label": "Chris Brown",
            "method": "restyle"
           },
           {
            "args": [
             {
              "visible": [
               false,
               false,
               false,
               false,
               true,
               false,
               false,
               false,
               false,
               false
              ]
             }
            ],
            "label": "Trey Songz",
            "method": "restyle"
           },
           {
            "args": [
             {
              "visible": [
               false,
               false,
               false,
               false,
               false,
               true,
               false,
               false,
               false,
               false
              ]
             }
            ],
            "label": "Rihanna",
            "method": "restyle"
           },
           {
            "args": [
             {
              "visible": [
               false,
               false,
               false,
               false,
               false,
               false,
               true,
               false,
               false,
               false
              ]
             }
            ],
            "label": "Kanye West",
            "method": "restyle"
           },
           {
            "args": [
             {
              "visible": [
               false,
               false,
               false,
               false,
               false,
               false,
               false,
               true,
               false,
               false
              ]
             }
            ],
            "label": "Future",
            "method": "restyle"
           },
           {
            "args": [
             {
              "visible": [
               false,
               false,
               false,
               false,
               false,
               false,
               false,
               false,
               true,
               false
              ]
             }
            ],
            "label": "Nicki Minaj",
            "method": "restyle"
           },
           {
            "args": [
             {
              "visible": [
               false,
               false,
               false,
               false,
               false,
               false,
               false,
               false,
               false,
               true
              ]
             }
            ],
            "label": "Kendrick Lamar",
            "method": "restyle"
           }
          ],
          "font": {
           "color": "#000000",
           "size": 11
          },
          "pad": {
           "l": 0,
           "t": 0
          },
          "showactive": false,
          "x": 1.2,
          "xanchor": "right",
          "y": 1,
          "yanchor": "top"
         }
        ]
       }
      },
      "text/html": [
       "<div id=\"12f5e16a-b14d-4ada-a2ff-d9bfd18fd074\" style=\"height: 525px; width: 100%;\" class=\"plotly-graph-div\"></div><script type=\"text/javascript\">require([\"plotly\"], function(Plotly) { window.PLOTLYENV=window.PLOTLYENV || {};window.PLOTLYENV.BASE_URL=\"https://plot.ly\";Plotly.newPlot(\"12f5e16a-b14d-4ada-a2ff-d9bfd18fd074\", [{\"mode\": \"lines\", \"name\": \"Drake\", \"text\": [\"Songs: <br>Find Your Love #15<br>Over #16\", \"Songs: <br>Headlines #29<br>Marvins Room #35\", \"\", \"Songs: <br>Started From The Bottom #6\", \"Songs: <br>0 To 100 / The Catch Up #23<br>The Language #47<br>Worst Behavior #69\", \"Songs: <br>Hotline Bling #8\", \"Songs: <br>Controlla #9<br>Summer Sixteen #36<br>Childs Play #52<br>Still Here #59<br>Hype #66\", \"Songs: <br>Fake Love #14<br>Passionfruit #24<br>Gyalchester #66\", \"Songs: <br>God's Plan #1<br>In My Feelings #3<br>Nice For What #5<br>Nonstop #24<br>I'm Upset #36<br>Mob Ties #74\"], \"x\": [2010, 2011, 2012, 2013, 2014, 2015, 2016, 2017, 2018], \"y\": [2.0, 2.0, 0.0, 1.0, 3.0, 1.0, 5.0, 3.0, 6.0], \"type\": \"scattergl\", \"uid\": \"e9385f07-799d-4062-93e5-9f17974e0d03\"}, {\"mode\": \"lines\", \"name\": \"Beyonce\", \"text\": [\"\", \"Songs: <br>Best Thing I Never Had #21\", \"Songs: <br>Love On Top #1<br>Dance For You #30<br>Countdown #54\", \"\", \"Songs: <br>Partition #17<br>XO #46\", \"Songs: <br>11-Jul #17\", \"Songs: <br>Sorry #21<br>Hold Up #43<br>Formation #53\", \"\", \"\"], \"x\": [2010, 2011, 2012, 2013, 2014, 2015, 2016, 2017, 2018], \"y\": [0.0, 1.0, 3.0, 0.0, 2.0, 1.0, 3.0, 0.0, 0.0], \"type\": \"scattergl\", \"uid\": \"58124089-e845-4102-b6a4-f703b63dd79c\"}, {\"mode\": \"lines\", \"name\": \"The Weeknd\", \"text\": [\"\", \"\", \"\", \"Songs: <br>Wicked Games #34\", \"Songs: <br>Often #72\", \"Songs: <br>The Hills #4<br>Can't Feel My Face #5<br>Earned It (Fifty Shades Of Grey) #6\", \"Songs: <br>In The Night #18<br>Acquainted #74\", \"Songs: <br>Party Monster #45<br>Reminder #56\", \"Songs: <br>Call Out My Name #35\"], \"x\": [2010, 2011, 2012, 2013, 2014, 2015, 2016, 2017, 2018], \"y\": [0.0, 0.0, 0.0, 1.0, 1.0, 3.0, 2.0, 2.0, 1.0], \"type\": \"scattergl\", \"uid\": \"9cc2cd53-f139-4142-8498-2d0182847c48\"}, {\"mode\": \"lines\", \"name\": \"Chris Brown\", \"text\": [\"\", \"Songs: <br>She Ain't You #7<br>No BS #13\", \"Songs: <br>Sweet Love #71\", \"Songs: <br>Fine China #24<br>Don't Judge Me #56\", \"\", \"\", \"Songs: <br>Back To Sleep #29<br>Grass Ain't Greener #87\", \"Songs: <br>Privacy #54<br>Questions #76\", \"\"], \"x\": [2010, 2011, 2012, 2013, 2014, 2015, 2016, 2017, 2018], \"y\": [0.0, 2.0, 1.0, 2.0, 0.0, 0.0, 2.0, 2.0, 0.0], \"type\": \"scattergl\", \"uid\": \"6d1d303a-1331-455d-a86c-e91fcada3139\"}, {\"mode\": \"lines\", \"name\": \"Trey Songz\", \"text\": [\"Songs: <br>Neighbors Know My Name #6<br>Can't Be Friends #44\", \"Songs: <br>Love Faces #10\", \"Songs: <br>Heart Attack #6<br>Sex Ain't Better Than Love #35<br>Dive In #39\", \"\", \"Songs: <br>Na Na #14<br>Foreign #53\", \"\", \"\", \"\", \"\"], \"x\": [2010, 2011, 2012, 2013, 2014, 2015, 2016, 2017, 2018], \"y\": [2.0, 1.0, 3.0, 0.0, 2.0, 0.0, 0.0, 0.0, 0.0], \"type\": \"scattergl\", \"uid\": \"de80f38d-38e2-4335-a8f1-8ecdd0364e0d\"}, {\"mode\": \"lines\", \"name\": \"Rihanna\", \"text\": [\"Songs: <br>Rude Boy #25\", \"Songs: <br>Man Down #41\", \"\", \"Songs: <br>Diamonds #5<br>Pour It Up #10\", \"\", \"\", \"Songs: <br>Needed Me #4<br>Kiss It Better #67<br>Sex With Me #78\", \"Songs: <br>Love On The Brain #17\", \"\"], \"x\": [2010, 2011, 2012, 2013, 2014, 2015, 2016, 2017, 2018], \"y\": [1.0, 1.0, 0.0, 2.0, 0.0, 0.0, 3.0, 1.0, 0.0], \"type\": \"scattergl\", \"uid\": \"ffce22a0-bbf5-434f-9395-bc8e9f620110\"}, {\"mode\": \"lines\", \"name\": \"Kanye West\", \"text\": [\"Songs: <br>POWER #86\", \"Songs: <br>All Of The Lights #8\", \"\", \"\", \"Songs: <br>Bound 2 #55\", \"\", \"Songs: <br>Father Stretch My Hands Pt. 1 #35<br>Famous #56<br>Fade #88\", \"\", \"Songs: <br>All Mine #75\"], \"x\": [2010, 2011, 2012, 2013, 2014, 2015, 2016, 2017, 2018], \"y\": [1.0, 1.0, 0.0, 0.0, 1.0, 0.0, 3.0, 0.0, 1.0], \"type\": \"scattergl\", \"uid\": \"eb71114d-db85-47c3-8d7b-f3483162600b\"}, {\"mode\": \"lines\", \"name\": \"Future\", \"text\": [\"\", \"\", \"Songs: <br>Turn On The Lights #32<br>Same Damn Time #55\", \"Songs: <br>Neva End #38<br>Honest #67\", \"\", \"\", \"Songs: <br>Wicked #31<br>Stick Talk #92\", \"Songs: <br>Mask Off #6\", \"\"], \"x\": [2010, 2011, 2012, 2013, 2014, 2015, 2016, 2017, 2018], \"y\": [0.0, 0.0, 2.0, 2.0, 0.0, 0.0, 2.0, 1.0, 0.0], \"type\": \"scattergl\", \"uid\": \"bf1b1e20-a4ad-44e2-8b20-17c930a90c34\"}, {\"mode\": \"lines\", \"name\": \"Nicki Minaj\", \"text\": [\"Songs: <br>Your Love #26\", \"Songs: <br>Did It On'em #24<br>Super Bass #37<br>Right Thru Me #45\", \"\", \"\", \"Songs: <br>Anaconda #8<br>Pills N Potions #24\", \"\", \"\", \"\", \"Songs: <br>Chun-Li #40\"], \"x\": [2010, 2011, 2012, 2013, 2014, 2015, 2016, 2017, 2018], \"y\": [1.0, 3.0, 0.0, 0.0, 2.0, 0.0, 0.0, 0.0, 1.0], \"type\": \"scattergl\", \"uid\": \"6bb840fb-7c26-4755-9ded-ee622a318528\"}, {\"mode\": \"lines\", \"name\": \"Kendrick Lamar\", \"text\": [\"\", \"\", \"Songs: <br>Swimming Pools (Drank) #77\", \"Songs: <br>Bitch  Don't Kill My Vibe #13\", \"Songs: <br>i #50\", \"\", \"\", \"Songs: <br>Humble. #2<br>DNA. #23<br>Element. #60\", \"\"], \"x\": [2010, 2011, 2012, 2013, 2014, 2015, 2016, 2017, 2018], \"y\": [0.0, 0.0, 1.0, 1.0, 1.0, 0.0, 0.0, 3.0, 0.0], \"type\": \"scattergl\", \"uid\": \"840563a2-aee5-40e5-9d44-eadee06892fd\"}], {\"showlegend\": false, \"updatemenus\": [{\"bgcolor\": \"#AAAAAA\", \"bordercolor\": \"#FFFFFF\", \"buttons\": [{\"args\": [{\"visible\": [true, false, false, false, false, false, false, false, false, false]}], \"label\": \"Drake\", \"method\": \"restyle\"}, {\"args\": [{\"visible\": [false, true, false, false, false, false, false, false, false, false]}], \"label\": \"Beyonce\", \"method\": \"restyle\"}, {\"args\": [{\"visible\": [false, false, true, false, false, false, false, false, false, false]}], \"label\": \"The Weeknd\", \"method\": \"restyle\"}, {\"args\": [{\"visible\": [false, false, false, true, false, false, false, false, false, false]}], \"label\": \"Chris Brown\", \"method\": \"restyle\"}, {\"args\": [{\"visible\": [false, false, false, false, true, false, false, false, false, false]}], \"label\": \"Trey Songz\", \"method\": \"restyle\"}, {\"args\": [{\"visible\": [false, false, false, false, false, true, false, false, false, false]}], \"label\": \"Rihanna\", \"method\": \"restyle\"}, {\"args\": [{\"visible\": [false, false, false, false, false, false, true, false, false, false]}], \"label\": \"Kanye West\", \"method\": \"restyle\"}, {\"args\": [{\"visible\": [false, false, false, false, false, false, false, true, false, false]}], \"label\": \"Future\", \"method\": \"restyle\"}, {\"args\": [{\"visible\": [false, false, false, false, false, false, false, false, true, false]}], \"label\": \"Nicki Minaj\", \"method\": \"restyle\"}, {\"args\": [{\"visible\": [false, false, false, false, false, false, false, false, false, true]}], \"label\": \"Kendrick Lamar\", \"method\": \"restyle\"}], \"font\": {\"color\": \"#000000\", \"size\": 11}, \"pad\": {\"l\": 0, \"t\": 0.0}, \"showactive\": false, \"x\": 1.2, \"xanchor\": \"right\", \"y\": 1, \"yanchor\": \"top\"}]}, {\"showLink\": false, \"linkText\": \"Export to plot.ly\", \"plotlyServerURL\": \"https://plot.ly\"})});</script><script type=\"text/javascript\">window.addEventListener(\"resize\", function(){window._Plotly.Plots.resize(document.getElementById(\"12f5e16a-b14d-4ada-a2ff-d9bfd18fd074\"));});</script>"
      ],
      "text/vnd.plotly.v1+html": [
       "<div id=\"12f5e16a-b14d-4ada-a2ff-d9bfd18fd074\" style=\"height: 525px; width: 100%;\" class=\"plotly-graph-div\"></div><script type=\"text/javascript\">require([\"plotly\"], function(Plotly) { window.PLOTLYENV=window.PLOTLYENV || {};window.PLOTLYENV.BASE_URL=\"https://plot.ly\";Plotly.newPlot(\"12f5e16a-b14d-4ada-a2ff-d9bfd18fd074\", [{\"mode\": \"lines\", \"name\": \"Drake\", \"text\": [\"Songs: <br>Find Your Love #15<br>Over #16\", \"Songs: <br>Headlines #29<br>Marvins Room #35\", \"\", \"Songs: <br>Started From The Bottom #6\", \"Songs: <br>0 To 100 / The Catch Up #23<br>The Language #47<br>Worst Behavior #69\", \"Songs: <br>Hotline Bling #8\", \"Songs: <br>Controlla #9<br>Summer Sixteen #36<br>Childs Play #52<br>Still Here #59<br>Hype #66\", \"Songs: <br>Fake Love #14<br>Passionfruit #24<br>Gyalchester #66\", \"Songs: <br>God's Plan #1<br>In My Feelings #3<br>Nice For What #5<br>Nonstop #24<br>I'm Upset #36<br>Mob Ties #74\"], \"x\": [2010, 2011, 2012, 2013, 2014, 2015, 2016, 2017, 2018], \"y\": [2.0, 2.0, 0.0, 1.0, 3.0, 1.0, 5.0, 3.0, 6.0], \"type\": \"scattergl\", \"uid\": \"e9385f07-799d-4062-93e5-9f17974e0d03\"}, {\"mode\": \"lines\", \"name\": \"Beyonce\", \"text\": [\"\", \"Songs: <br>Best Thing I Never Had #21\", \"Songs: <br>Love On Top #1<br>Dance For You #30<br>Countdown #54\", \"\", \"Songs: <br>Partition #17<br>XO #46\", \"Songs: <br>11-Jul #17\", \"Songs: <br>Sorry #21<br>Hold Up #43<br>Formation #53\", \"\", \"\"], \"x\": [2010, 2011, 2012, 2013, 2014, 2015, 2016, 2017, 2018], \"y\": [0.0, 1.0, 3.0, 0.0, 2.0, 1.0, 3.0, 0.0, 0.0], \"type\": \"scattergl\", \"uid\": \"58124089-e845-4102-b6a4-f703b63dd79c\"}, {\"mode\": \"lines\", \"name\": \"The Weeknd\", \"text\": [\"\", \"\", \"\", \"Songs: <br>Wicked Games #34\", \"Songs: <br>Often #72\", \"Songs: <br>The Hills #4<br>Can't Feel My Face #5<br>Earned It (Fifty Shades Of Grey) #6\", \"Songs: <br>In The Night #18<br>Acquainted #74\", \"Songs: <br>Party Monster #45<br>Reminder #56\", \"Songs: <br>Call Out My Name #35\"], \"x\": [2010, 2011, 2012, 2013, 2014, 2015, 2016, 2017, 2018], \"y\": [0.0, 0.0, 0.0, 1.0, 1.0, 3.0, 2.0, 2.0, 1.0], \"type\": \"scattergl\", \"uid\": \"9cc2cd53-f139-4142-8498-2d0182847c48\"}, {\"mode\": \"lines\", \"name\": \"Chris Brown\", \"text\": [\"\", \"Songs: <br>She Ain't You #7<br>No BS #13\", \"Songs: <br>Sweet Love #71\", \"Songs: <br>Fine China #24<br>Don't Judge Me #56\", \"\", \"\", \"Songs: <br>Back To Sleep #29<br>Grass Ain't Greener #87\", \"Songs: <br>Privacy #54<br>Questions #76\", \"\"], \"x\": [2010, 2011, 2012, 2013, 2014, 2015, 2016, 2017, 2018], \"y\": [0.0, 2.0, 1.0, 2.0, 0.0, 0.0, 2.0, 2.0, 0.0], \"type\": \"scattergl\", \"uid\": \"6d1d303a-1331-455d-a86c-e91fcada3139\"}, {\"mode\": \"lines\", \"name\": \"Trey Songz\", \"text\": [\"Songs: <br>Neighbors Know My Name #6<br>Can't Be Friends #44\", \"Songs: <br>Love Faces #10\", \"Songs: <br>Heart Attack #6<br>Sex Ain't Better Than Love #35<br>Dive In #39\", \"\", \"Songs: <br>Na Na #14<br>Foreign #53\", \"\", \"\", \"\", \"\"], \"x\": [2010, 2011, 2012, 2013, 2014, 2015, 2016, 2017, 2018], \"y\": [2.0, 1.0, 3.0, 0.0, 2.0, 0.0, 0.0, 0.0, 0.0], \"type\": \"scattergl\", \"uid\": \"de80f38d-38e2-4335-a8f1-8ecdd0364e0d\"}, {\"mode\": \"lines\", \"name\": \"Rihanna\", \"text\": [\"Songs: <br>Rude Boy #25\", \"Songs: <br>Man Down #41\", \"\", \"Songs: <br>Diamonds #5<br>Pour It Up #10\", \"\", \"\", \"Songs: <br>Needed Me #4<br>Kiss It Better #67<br>Sex With Me #78\", \"Songs: <br>Love On The Brain #17\", \"\"], \"x\": [2010, 2011, 2012, 2013, 2014, 2015, 2016, 2017, 2018], \"y\": [1.0, 1.0, 0.0, 2.0, 0.0, 0.0, 3.0, 1.0, 0.0], \"type\": \"scattergl\", \"uid\": \"ffce22a0-bbf5-434f-9395-bc8e9f620110\"}, {\"mode\": \"lines\", \"name\": \"Kanye West\", \"text\": [\"Songs: <br>POWER #86\", \"Songs: <br>All Of The Lights #8\", \"\", \"\", \"Songs: <br>Bound 2 #55\", \"\", \"Songs: <br>Father Stretch My Hands Pt. 1 #35<br>Famous #56<br>Fade #88\", \"\", \"Songs: <br>All Mine #75\"], \"x\": [2010, 2011, 2012, 2013, 2014, 2015, 2016, 2017, 2018], \"y\": [1.0, 1.0, 0.0, 0.0, 1.0, 0.0, 3.0, 0.0, 1.0], \"type\": \"scattergl\", \"uid\": \"eb71114d-db85-47c3-8d7b-f3483162600b\"}, {\"mode\": \"lines\", \"name\": \"Future\", \"text\": [\"\", \"\", \"Songs: <br>Turn On The Lights #32<br>Same Damn Time #55\", \"Songs: <br>Neva End #38<br>Honest #67\", \"\", \"\", \"Songs: <br>Wicked #31<br>Stick Talk #92\", \"Songs: <br>Mask Off #6\", \"\"], \"x\": [2010, 2011, 2012, 2013, 2014, 2015, 2016, 2017, 2018], \"y\": [0.0, 0.0, 2.0, 2.0, 0.0, 0.0, 2.0, 1.0, 0.0], \"type\": \"scattergl\", \"uid\": \"bf1b1e20-a4ad-44e2-8b20-17c930a90c34\"}, {\"mode\": \"lines\", \"name\": \"Nicki Minaj\", \"text\": [\"Songs: <br>Your Love #26\", \"Songs: <br>Did It On'em #24<br>Super Bass #37<br>Right Thru Me #45\", \"\", \"\", \"Songs: <br>Anaconda #8<br>Pills N Potions #24\", \"\", \"\", \"\", \"Songs: <br>Chun-Li #40\"], \"x\": [2010, 2011, 2012, 2013, 2014, 2015, 2016, 2017, 2018], \"y\": [1.0, 3.0, 0.0, 0.0, 2.0, 0.0, 0.0, 0.0, 1.0], \"type\": \"scattergl\", \"uid\": \"6bb840fb-7c26-4755-9ded-ee622a318528\"}, {\"mode\": \"lines\", \"name\": \"Kendrick Lamar\", \"text\": [\"\", \"\", \"Songs: <br>Swimming Pools (Drank) #77\", \"Songs: <br>Bitch  Don't Kill My Vibe #13\", \"Songs: <br>i #50\", \"\", \"\", \"Songs: <br>Humble. #2<br>DNA. #23<br>Element. #60\", \"\"], \"x\": [2010, 2011, 2012, 2013, 2014, 2015, 2016, 2017, 2018], \"y\": [0.0, 0.0, 1.0, 1.0, 1.0, 0.0, 0.0, 3.0, 0.0], \"type\": \"scattergl\", \"uid\": \"840563a2-aee5-40e5-9d44-eadee06892fd\"}], {\"showlegend\": false, \"updatemenus\": [{\"bgcolor\": \"#AAAAAA\", \"bordercolor\": \"#FFFFFF\", \"buttons\": [{\"args\": [{\"visible\": [true, false, false, false, false, false, false, false, false, false]}], \"label\": \"Drake\", \"method\": \"restyle\"}, {\"args\": [{\"visible\": [false, true, false, false, false, false, false, false, false, false]}], \"label\": \"Beyonce\", \"method\": \"restyle\"}, {\"args\": [{\"visible\": [false, false, true, false, false, false, false, false, false, false]}], \"label\": \"The Weeknd\", \"method\": \"restyle\"}, {\"args\": [{\"visible\": [false, false, false, true, false, false, false, false, false, false]}], \"label\": \"Chris Brown\", \"method\": \"restyle\"}, {\"args\": [{\"visible\": [false, false, false, false, true, false, false, false, false, false]}], \"label\": \"Trey Songz\", \"method\": \"restyle\"}, {\"args\": [{\"visible\": [false, false, false, false, false, true, false, false, false, false]}], \"label\": \"Rihanna\", \"method\": \"restyle\"}, {\"args\": [{\"visible\": [false, false, false, false, false, false, true, false, false, false]}], \"label\": \"Kanye West\", \"method\": \"restyle\"}, {\"args\": [{\"visible\": [false, false, false, false, false, false, false, true, false, false]}], \"label\": \"Future\", \"method\": \"restyle\"}, {\"args\": [{\"visible\": [false, false, false, false, false, false, false, false, true, false]}], \"label\": \"Nicki Minaj\", \"method\": \"restyle\"}, {\"args\": [{\"visible\": [false, false, false, false, false, false, false, false, false, true]}], \"label\": \"Kendrick Lamar\", \"method\": \"restyle\"}], \"font\": {\"color\": \"#000000\", \"size\": 11}, \"pad\": {\"l\": 0, \"t\": 0.0}, \"showactive\": false, \"x\": 1.2, \"xanchor\": \"right\", \"y\": 1, \"yanchor\": \"top\"}]}, {\"showLink\": false, \"linkText\": \"Export to plot.ly\", \"plotlyServerURL\": \"https://plot.ly\"})});</script><script type=\"text/javascript\">window.addEventListener(\"resize\", function(){window._Plotly.Plots.resize(document.getElementById(\"12f5e16a-b14d-4ada-a2ff-d9bfd18fd074\"));});</script>"
      ]
     },
     "metadata": {},
     "output_type": "display_data"
    }
   ],
   "source": [
    "# df loc by artist\n",
    "# loop through years where they have a rank\n",
    "# append those as traces to a time series\n",
    "def make_top_rapper_chart():\n",
    "    data = []\n",
    "    buttons=[]\n",
    "\n",
    "\n",
    "    dic,top_artists = grouped_artists()\n",
    "\n",
    "    years = [k[1] for k in dic.keys()]\n",
    "    conditions = make_conditions(top_artists)\n",
    "\n",
    "    for artist in top_artists:\n",
    "        num_hits = [v[artist] for v in dic.values()]\n",
    "\n",
    "        trace = go.Scattergl(\n",
    "            x=years,\n",
    "            y=num_hits,\n",
    "            mode='lines',\n",
    "            name=artist,\n",
    "            text = [make_string(artist,year) for year in years]\n",
    "            )\n",
    "        data.append(trace)\n",
    "\n",
    "\n",
    "\n",
    "\n",
    "    for artist,condition in zip(top_artists,conditions):\n",
    "        dic = {'label':artist,\n",
    "            'method':'restyle',\n",
    "            'args':[{'visible': condition}]}\n",
    "\n",
    "        buttons.append(dic)\n",
    "\n",
    "\n",
    "    updatemenus = list([\n",
    "        dict(\n",
    "            buttons=buttons,\n",
    "            x = 1.2,\n",
    "            xanchor = 'right',\n",
    "            y = 1,\n",
    "            yanchor = 'top',\n",
    "            pad = {'l': 0, 't': 0.0},\n",
    "            bgcolor = '#AAAAAA',\n",
    "            showactive = False,\n",
    "            bordercolor = '#FFFFFF',\n",
    "            font = dict(size=11, color='#000000')\n",
    "        )])    \n",
    "\n",
    "    layout = go.Layout(\n",
    "        updatemenus=updatemenus,\n",
    "        showlegend=False,\n",
    "        title=\"# of Songs on the Hot 100 Rap Charts\"\n",
    "    )\n",
    "\n",
    "\n",
    "    fig = go.Figure(data=data, layout=layout)\n",
    "\n",
    "#     offline.iplot(fig)\n",
    "    return offline.plot(fig, include_plotlyjs=False, output_type='div')\n"
   ]
  },
  {
   "cell_type": "code",
   "execution_count": null,
   "metadata": {},
   "outputs": [],
   "source": [
    "\n",
    "\n",
    "\n",
    "\n",
    "print(make_string(\"Drake\",2013))"
   ]
  }
 ],
 "metadata": {
  "kernelspec": {
   "display_name": "PythonData",
   "language": "python",
   "name": "pythondata"
  },
  "language_info": {
   "codemirror_mode": {
    "name": "ipython",
    "version": 3
   },
   "file_extension": ".py",
   "mimetype": "text/x-python",
   "name": "python",
   "nbconvert_exporter": "python",
   "pygments_lexer": "ipython3",
   "version": "3.6.0"
  },
  "toc": {
   "base_numbering": 1,
   "nav_menu": {},
   "number_sections": true,
   "sideBar": true,
   "skip_h1_title": false,
   "title_cell": "Table of Contents",
   "title_sidebar": "Contents",
   "toc_cell": false,
   "toc_position": {},
   "toc_section_display": true,
   "toc_window_display": false
  }
 },
 "nbformat": 4,
 "nbformat_minor": 2
}
