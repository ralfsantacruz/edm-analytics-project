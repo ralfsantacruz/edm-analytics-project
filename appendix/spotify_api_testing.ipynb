{
 "cells": [
  {
   "cell_type": "code",
   "execution_count": 1,
   "metadata": {},
   "outputs": [],
   "source": [
    "import pandas as pd\n",
    "import requests as rq\n",
    "import json\n",
    "\n",
    "from config import spotify_client_data"
   ]
  },
  {
   "cell_type": "code",
   "execution_count": 4,
   "metadata": {},
   "outputs": [],
   "source": [
    "# Create post request to get access token to spotify.\n",
    "headers = {'Authorization': 'Basic '+ spotify_client_data}\n",
    "payload = {'grant_type': 'client_credentials'}\n",
    "\n",
    "response = rq.post(\"https://accounts.spotify.com/api/token\", headers=headers,data=payload).json()\n",
    "\n",
    "# Save access token\n",
    "token = response['access_token']\n",
    "\n",
    "# Set authorization header using token\n",
    "headers = {'Authorization': 'Bearer ' + token}"
   ]
  },
  {
   "cell_type": "code",
   "execution_count": 12,
   "metadata": {},
   "outputs": [],
   "source": [
    "# Crate base url for spotify api endpoints\n",
    "base_url = \"https://api.spotify.com/v1/artists/\"\n",
    "\n",
    "# Test run to see if request will work.\n",
    "drake_id = \"3TVXtAsR1Inumwj472S9r4\"\n",
    "kaskade_id = \"6TQj5BFPooTa08A7pk8AQ1\""
   ]
  },
  {
   "cell_type": "code",
   "execution_count": 13,
   "metadata": {},
   "outputs": [
    {
     "data": {
      "text/plain": [
       "{'external_urls': {'spotify': 'https://open.spotify.com/artist/6TQj5BFPooTa08A7pk8AQ1'},\n",
       " 'followers': {'href': None, 'total': 645528},\n",
       " 'genres': ['big room',\n",
       "  'chicago house',\n",
       "  'dance pop',\n",
       "  'edm',\n",
       "  'electro house',\n",
       "  'pop',\n",
       "  'progressive electro house',\n",
       "  'progressive house',\n",
       "  'tropical house',\n",
       "  'vocal house'],\n",
       " 'href': 'https://api.spotify.com/v1/artists/6TQj5BFPooTa08A7pk8AQ1',\n",
       " 'id': '6TQj5BFPooTa08A7pk8AQ1',\n",
       " 'images': [{'height': 640,\n",
       "   'url': 'https://i.scdn.co/image/97d416a8ffb59ec86022434ce323ee01f5c8e265',\n",
       "   'width': 640},\n",
       "  {'height': 320,\n",
       "   'url': 'https://i.scdn.co/image/283a1d574ff4fcd8b5bd31ecc39f9b60ed22d6b0',\n",
       "   'width': 320},\n",
       "  {'height': 160,\n",
       "   'url': 'https://i.scdn.co/image/c5ad5f9432d7dcbc4b74720a09215729f3af8de7',\n",
       "   'width': 160}],\n",
       " 'name': 'Kaskade',\n",
       " 'popularity': 73,\n",
       " 'type': 'artist',\n",
       " 'uri': 'spotify:artist:6TQj5BFPooTa08A7pk8AQ1'}"
      ]
     },
     "execution_count": 13,
     "metadata": {},
     "output_type": "execute_result"
    }
   ],
   "source": [
    "# Get info on Kaskade.\n",
    "rq.get(base_url+kaskade_id, headers=headers).json()"
   ]
  },
  {
   "cell_type": "code",
   "execution_count": 15,
   "metadata": {},
   "outputs": [
    {
     "data": {
      "text/plain": [
       "{'external_urls': {'spotify': 'https://open.spotify.com/artist/3TVXtAsR1Inumwj472S9r4'},\n",
       " 'followers': {'href': None, 'total': 31511589},\n",
       " 'genres': ['canadian hip hop', 'canadian pop', 'hip hop', 'pop rap', 'rap'],\n",
       " 'href': 'https://api.spotify.com/v1/artists/3TVXtAsR1Inumwj472S9r4',\n",
       " 'id': '3TVXtAsR1Inumwj472S9r4',\n",
       " 'images': [{'height': 640,\n",
       "   'url': 'https://i.scdn.co/image/012ecd119617ac24ab56620ace4b81735b172686',\n",
       "   'width': 640},\n",
       "  {'height': 320,\n",
       "   'url': 'https://i.scdn.co/image/55e3fb26d67b4d71321440b3a440eecd9d8f20f7',\n",
       "   'width': 320},\n",
       "  {'height': 160,\n",
       "   'url': 'https://i.scdn.co/image/ad10179d5f27ba77c7d6c95abd6e26f6a227e0d5',\n",
       "   'width': 160}],\n",
       " 'name': 'Drake',\n",
       " 'popularity': 100,\n",
       " 'type': 'artist',\n",
       " 'uri': 'spotify:artist:3TVXtAsR1Inumwj472S9r4'}"
      ]
     },
     "execution_count": 15,
     "metadata": {},
     "output_type": "execute_result"
    }
   ],
   "source": [
    "# Get info on Drake.\n",
    "rq.get(base_url+drake_id, headers=headers).json()"
   ]
  },
  {
   "cell_type": "code",
   "execution_count": 16,
   "metadata": {},
   "outputs": [],
   "source": [
    "base_url = \"https://api.spotify.com/v1/audio-features/\""
   ]
  },
  {
   "cell_type": "code",
   "execution_count": 17,
   "metadata": {},
   "outputs": [
    {
     "data": {
      "text/plain": [
       "{'danceability': 0.839,\n",
       " 'energy': 0.922,\n",
       " 'key': 0,\n",
       " 'loudness': -3.166,\n",
       " 'mode': 1,\n",
       " 'speechiness': 0.0568,\n",
       " 'acousticness': 0.0215,\n",
       " 'instrumentalness': 0.00936,\n",
       " 'liveness': 0.0548,\n",
       " 'valence': 0.328,\n",
       " 'tempo': 122.986,\n",
       " 'type': 'audio_features',\n",
       " 'id': '6quwZWSOygVjpaTG84whzq',\n",
       " 'uri': 'spotify:track:6quwZWSOygVjpaTG84whzq',\n",
       " 'track_href': 'https://api.spotify.com/v1/tracks/6quwZWSOygVjpaTG84whzq',\n",
       " 'analysis_url': 'https://api.spotify.com/v1/audio-analysis/6quwZWSOygVjpaTG84whzq',\n",
       " 'duration_ms': 174705,\n",
       " 'time_signature': 4}"
      ]
     },
     "execution_count": 17,
     "metadata": {},
     "output_type": "execute_result"
    }
   ],
   "source": [
    "rq.get(base_url+\"6quwZWSOygVjpaTG84whzq\", headers=headers).json()"
   ]
  }
 ],
 "metadata": {
  "kernelspec": {
   "display_name": "PythonData",
   "language": "python",
   "name": "pythondata"
  },
  "language_info": {
   "codemirror_mode": {
    "name": "ipython",
    "version": 3
   },
   "file_extension": ".py",
   "mimetype": "text/x-python",
   "name": "python",
   "nbconvert_exporter": "python",
   "pygments_lexer": "ipython3",
   "version": "3.6.0"
  },
  "toc": {
   "base_numbering": 1,
   "nav_menu": {},
   "number_sections": true,
   "sideBar": true,
   "skip_h1_title": false,
   "title_cell": "Table of Contents",
   "title_sidebar": "Contents",
   "toc_cell": false,
   "toc_position": {},
   "toc_section_display": true,
   "toc_window_display": false
  }
 },
 "nbformat": 4,
 "nbformat_minor": 2
}
